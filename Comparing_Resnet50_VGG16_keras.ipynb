{
 "cells": [
  {
   "cell_type": "markdown",
   "metadata": {
    "colab_type": "text",
    "id": "IU7X07-_PtNq"
   },
   "source": [
    "## Comparison of Pre-Trained Models"
   ]
  },
  {
   "cell_type": "markdown",
   "metadata": {
    "colab_type": "text",
    "id": "jfddAaebPlPK"
   },
   "source": [
    "## Part 1\n",
    "\n",
    "In this part, you will design a classifier using the VGG16 pre-trained model. Just like the ResNet50 model, you can import the model <code>VGG16</code> from <code>keras.applications</code>.\n",
    "\n",
    "You will essentially build your classifier as follows:\n",
    "1. Import libraries, modules, and packages you will need. Make sure to import the *preprocess_input* function from <code>keras.applications.vgg16</code>.\n",
    "2. Use a batch size of 100 images for both training and validation.\n",
    "3. Construct an ImageDataGenerator for the training set and another one for the validation set. VGG16 was originally trained on 224 × 224 images, so make sure to address that when defining the ImageDataGenerator instances.\n",
    "4. Create a sequential model using Keras. Add VGG16 model to it and dense layer.\n",
    "5. Compile the mode using the adam optimizer and the categorical_crossentropy loss function.\n",
    "6. Fit the model on the augmented data using the ImageDataGenerators."
   ]
  },
  {
   "cell_type": "code",
   "execution_count": 0,
   "metadata": {
    "colab": {},
    "colab_type": "code",
    "id": "GkbyopbuqZNt"
   },
   "outputs": [],
   "source": [
    "# import keras\n",
    "from tensorflow.keras.preprocessing.image import ImageDataGenerator\n",
    "from tensorflow.keras.models import Sequential\n",
    "from tensorflow.keras.layers import Dense\n",
    "\n",
    "from tensorflow.keras.applications import ResNet50\n",
    "from tensorflow.keras.applications.resnet50 import preprocess_input\n",
    "from tensorflow.keras.applications import VGG16\n",
    "from tensorflow.keras.applications.vgg16 import preprocess_input"
   ]
  },
  {
   "cell_type": "markdown",
   "metadata": {
    "colab_type": "text",
    "id": "mCsBrsr7QKHp"
   },
   "source": [
    "## Download Data"
   ]
  },
  {
   "cell_type": "code",
   "execution_count": 0,
   "metadata": {
    "colab": {
     "base_uri": "https://localhost:8080/",
     "height": 204
    },
    "colab_type": "code",
    "id": "9rq_smN7qm4-",
    "outputId": "ff443961-901b-4ac3-c67a-32dea2243c8c"
   },
   "outputs": [
    {
     "name": "stdout",
     "output_type": "stream",
     "text": [
      "--2020-04-13 15:45:51--  https://s3-api.us-geo.objectstorage.softlayer.net/cf-courses-data/CognitiveClass/DL0321EN/data/concrete_data_week4.zip\n",
      "Resolving s3-api.us-geo.objectstorage.softlayer.net (s3-api.us-geo.objectstorage.softlayer.net)... 67.228.254.196\n",
      "Connecting to s3-api.us-geo.objectstorage.softlayer.net (s3-api.us-geo.objectstorage.softlayer.net)|67.228.254.196|:443... connected.\n",
      "HTTP request sent, awaiting response... 200 OK\n",
      "Length: 261483817 (249M) [application/zip]\n",
      "Saving to: ‘concrete_data_week4.zip’\n",
      "\n",
      "concrete_data_week4 100%[===================>] 249.37M  32.8MB/s    in 7.9s    \n",
      "\n",
      "2020-04-13 15:46:00 (31.6 MB/s) - ‘concrete_data_week4.zip’ saved [261483817/261483817]\n",
      "\n"
     ]
    }
   ],
   "source": [
    "!wget  https://s3-api.us-geo.objectstorage.softlayer.net/cf-courses-data/CognitiveClass/DL0321EN/data/concrete_data_week4.zip\n",
    "!unzip -q concrete_data_week4.zip"
   ]
  },
  {
   "cell_type": "code",
   "execution_count": 0,
   "metadata": {
    "colab": {},
    "colab_type": "code",
    "id": "t63Emcfnr3ox"
   },
   "outputs": [],
   "source": [
    "num_classes = 2\n",
    "\n",
    "image_resize = 224\n",
    "\n",
    "batch_size_training = 100\n",
    "batch_size_validation = 100"
   ]
  },
  {
   "cell_type": "code",
   "execution_count": 0,
   "metadata": {
    "colab": {
     "base_uri": "https://localhost:8080/",
     "height": 34
    },
    "colab_type": "code",
    "id": "w7Y8bmpgsBB6",
    "outputId": "09f6beb2-368a-4231-e443-63cc46cbf01c"
   },
   "outputs": [
    {
     "name": "stdout",
     "output_type": "stream",
     "text": [
      "Found 30001 images belonging to 2 classes.\n"
     ]
    }
   ],
   "source": [
    "data_generator = ImageDataGenerator(\n",
    "    preprocessing_function=preprocess_input,\n",
    ")\n",
    "# dataset_dir = \"\"\n",
    "# image_generator = data_generator.flow_from_directory(\n",
    "#     dataset_dir,\n",
    "#     batch_size=4,\n",
    "#     class_mode='categorical',\n",
    "#     seed=24\n",
    "#     )\n",
    "train_generator = data_generator.flow_from_directory(\n",
    "    'concrete_data_week4/train',\n",
    "    target_size=(image_resize, image_resize),\n",
    "    batch_size=batch_size_training,\n",
    "    class_mode='categorical')"
   ]
  },
  {
   "cell_type": "code",
   "execution_count": 0,
   "metadata": {
    "colab": {
     "base_uri": "https://localhost:8080/",
     "height": 34
    },
    "colab_type": "code",
    "id": "rDhLgbUxsHc3",
    "outputId": "b1c1f2dc-fbae-4926-a810-f9dc8804608b"
   },
   "outputs": [
    {
     "name": "stdout",
     "output_type": "stream",
     "text": [
      "Found 9501 images belonging to 2 classes.\n"
     ]
    }
   ],
   "source": [
    "validation_generator = data_generator.flow_from_directory(\n",
    "    'concrete_data_week4/valid',\n",
    "    target_size=(image_resize, image_resize),\n",
    "    batch_size=batch_size_training,\n",
    "    class_mode='categorical')"
   ]
  },
  {
   "cell_type": "code",
   "execution_count": 0,
   "metadata": {
    "colab": {},
    "colab_type": "code",
    "id": "tBXRKspAsOtE"
   },
   "outputs": [],
   "source": [
    "model = Sequential()"
   ]
  },
  {
   "cell_type": "code",
   "execution_count": 0,
   "metadata": {
    "colab": {
     "base_uri": "https://localhost:8080/",
     "height": 51
    },
    "colab_type": "code",
    "id": "oKfEZJKKsTNZ",
    "outputId": "9fd29e70-89bb-40a4-89d6-072e29884ce3"
   },
   "outputs": [
    {
     "name": "stdout",
     "output_type": "stream",
     "text": [
      "Downloading data from https://storage.googleapis.com/tensorflow/keras-applications/vgg16/vgg16_weights_tf_dim_ordering_tf_kernels_notop.h5\n",
      "58892288/58889256 [==============================] - 1s 0us/step\n"
     ]
    }
   ],
   "source": [
    "model.add(VGG16(\n",
    "    include_top=False,\n",
    "    pooling='avg',\n",
    "    weights='imagenet',\n",
    "    ))"
   ]
  },
  {
   "cell_type": "code",
   "execution_count": 0,
   "metadata": {
    "colab": {},
    "colab_type": "code",
    "id": "Ud2jkDoGsWnq"
   },
   "outputs": [],
   "source": [
    "model.add(Dense(num_classes, activation='softmax'))"
   ]
  },
  {
   "cell_type": "code",
   "execution_count": 0,
   "metadata": {
    "colab": {
     "base_uri": "https://localhost:8080/",
     "height": 51
    },
    "colab_type": "code",
    "id": "dHoGm4gEscIv",
    "outputId": "8ce70401-b83f-47f5-eb4d-87a521282466"
   },
   "outputs": [
    {
     "data": {
      "text/plain": [
       "[<tensorflow.python.keras.engine.training.Model at 0x7ffaf13d4be0>,\n",
       " <tensorflow.python.keras.layers.core.Dense at 0x7ffaf0ced2b0>]"
      ]
     },
     "execution_count": 9,
     "metadata": {
      "tags": []
     },
     "output_type": "execute_result"
    }
   ],
   "source": [
    "model.layers"
   ]
  },
  {
   "cell_type": "code",
   "execution_count": 0,
   "metadata": {
    "colab": {},
    "colab_type": "code",
    "id": "iG0VghHssf-W"
   },
   "outputs": [],
   "source": [
    "model.layers[0].trainable = False"
   ]
  },
  {
   "cell_type": "code",
   "execution_count": 0,
   "metadata": {
    "colab": {
     "base_uri": "https://localhost:8080/",
     "height": 221
    },
    "colab_type": "code",
    "id": "nXhegJmRsjLt",
    "outputId": "5e0aa16a-01a7-4cf6-9272-31f8ee840079"
   },
   "outputs": [
    {
     "name": "stdout",
     "output_type": "stream",
     "text": [
      "Model: \"sequential\"\n",
      "_________________________________________________________________\n",
      "Layer (type)                 Output Shape              Param #   \n",
      "=================================================================\n",
      "vgg16 (Model)                (None, 512)               14714688  \n",
      "_________________________________________________________________\n",
      "dense (Dense)                (None, 2)                 1026      \n",
      "=================================================================\n",
      "Total params: 14,715,714\n",
      "Trainable params: 1,026\n",
      "Non-trainable params: 14,714,688\n",
      "_________________________________________________________________\n"
     ]
    }
   ],
   "source": [
    "model.summary()"
   ]
  },
  {
   "cell_type": "code",
   "execution_count": 0,
   "metadata": {
    "colab": {},
    "colab_type": "code",
    "id": "y4YWuOspsmM4"
   },
   "outputs": [],
   "source": [
    "model.compile(optimizer='adam', loss='categorical_crossentropy', metrics=['accuracy'])"
   ]
  },
  {
   "cell_type": "code",
   "execution_count": 0,
   "metadata": {
    "colab": {},
    "colab_type": "code",
    "id": "cW2Dg7Weso9p"
   },
   "outputs": [],
   "source": [
    "steps_per_epoch_training = len(train_generator)\n",
    "steps_per_epoch_validation = len(validation_generator)\n",
    "num_epochs = 2"
   ]
  },
  {
   "cell_type": "code",
   "execution_count": 0,
   "metadata": {
    "colab": {
     "base_uri": "https://localhost:8080/",
     "height": 156
    },
    "colab_type": "code",
    "id": "-gkftpnmssRL",
    "outputId": "7809d96b-b7b9-40dd-8922-d63e4a222359"
   },
   "outputs": [
    {
     "name": "stdout",
     "output_type": "stream",
     "text": [
      "WARNING:tensorflow:From <ipython-input-14-172e67583a70>:7: Model.fit_generator (from tensorflow.python.keras.engine.training) is deprecated and will be removed in a future version.\n",
      "Instructions for updating:\n",
      "Please use Model.fit, which supports generators.\n",
      "Epoch 1/2\n",
      "301/301 [==============================] - 116s 384ms/step - loss: 0.1369 - accuracy: 0.9463 - val_loss: 0.0318 - val_accuracy: 0.9935\n",
      "Epoch 2/2\n",
      "301/301 [==============================] - 114s 380ms/step - loss: 0.0249 - accuracy: 0.9944 - val_loss: 0.0187 - val_accuracy: 0.9954\n"
     ]
    }
   ],
   "source": [
    "fit_history = model.fit_generator(\n",
    "    train_generator,\n",
    "    steps_per_epoch=steps_per_epoch_training,\n",
    "    epochs=num_epochs,\n",
    "    validation_data=validation_generator,\n",
    "    validation_steps=steps_per_epoch_validation,\n",
    "    verbose=1,\n",
    ")"
   ]
  },
  {
   "cell_type": "code",
   "execution_count": 0,
   "metadata": {
    "colab": {},
    "colab_type": "code",
    "id": "mTqAW3NPsvHF"
   },
   "outputs": [],
   "source": [
    "model.save('classifier_vgg_model.h5')"
   ]
  },
  {
   "cell_type": "code",
   "execution_count": 0,
   "metadata": {
    "colab": {
     "base_uri": "https://localhost:8080/",
     "height": 51
    },
    "colab_type": "code",
    "id": "3nONQvdHuJZF",
    "outputId": "e643d558-5a65-4ed2-b408-38ab4681d430"
   },
   "outputs": [
    {
     "name": "stdout",
     "output_type": "stream",
     "text": [
      "classifier_resnet_model.h5  \u001b[0m\u001b[01;34mconcrete_data_week4\u001b[0m/     \u001b[01;34m__MACOSX\u001b[0m/\n",
      "classifier_vgg_model.h5     concrete_data_week4.zip  \u001b[01;34msample_data\u001b[0m/\n"
     ]
    }
   ],
   "source": [
    "ls"
   ]
  },
  {
   "cell_type": "markdown",
   "metadata": {
    "colab_type": "text",
    "id": "S-yPNCRmPVA9"
   },
   "source": [
    "## Part 2\n",
    "\n",
    "In this part, you will evaluate your deep learning models on a test data. For this part, you will need to do the following:\n",
    "\n",
    "1. Load your saved model that was built using the ResNet50 model. \n",
    "2. Construct an ImageDataGenerator for the test set. For this ImageDataGenerator instance, you only need to pass the directory of the test images, target size, and the **shuffle** parameter and set it to False.\n",
    "3. Use the **evaluate_generator** method to evaluate your models on the test data, by passing the above ImageDataGenerator as an argument. You can learn more about **evaluate_generator** [here](https://keras.io/models/sequential/).\n",
    "4. Print the performance of the classifier using the VGG16 pre-trained model.\n",
    "5. Print the performance of the classifier using the ResNet pre-trained model.\n"
   ]
  },
  {
   "cell_type": "code",
   "execution_count": 0,
   "metadata": {
    "colab": {
     "base_uri": "https://localhost:8080/",
     "height": 34
    },
    "colab_type": "code",
    "id": "GQ5Uqh8L0y1Z",
    "outputId": "d43c0149-65e6-49e6-8195-8f794be86c7e"
   },
   "outputs": [
    {
     "name": "stdout",
     "output_type": "stream",
     "text": [
      "WARNING:tensorflow:Error in loading the saved optimizer state. As a result, your model is starting with a freshly initialized optimizer.\n"
     ]
    }
   ],
   "source": [
    "from tensorflow.keras.models import load_model\n",
    "\n",
    "import os\n",
    "import numpy as np\n",
    "import matplotlib.pyplot as plt\n",
    "\n",
    "model_resnet = load_model('classifier_resnet_model.h5')"
   ]
  },
  {
   "cell_type": "code",
   "execution_count": 0,
   "metadata": {
    "colab": {},
    "colab_type": "code",
    "id": "zg3XH3W73N6_"
   },
   "outputs": [],
   "source": [
    "model_resnet.save('classifier_resnet1_model.h5')"
   ]
  },
  {
   "cell_type": "code",
   "execution_count": 0,
   "metadata": {
    "colab": {
     "base_uri": "https://localhost:8080/",
     "height": 51
    },
    "colab_type": "code",
    "id": "H2gou-rr-xwH",
    "outputId": "9aff828f-4bb4-4029-b9d2-2e9fed0ac3a2"
   },
   "outputs": [
    {
     "name": "stdout",
     "output_type": "stream",
     "text": [
      "Found 500 images belonging to 2 classes.\n"
     ]
    },
    {
     "data": {
      "text/plain": [
       "5"
      ]
     },
     "execution_count": 25,
     "metadata": {
      "tags": []
     },
     "output_type": "execute_result"
    }
   ],
   "source": [
    "test_generator = data_generator.flow_from_directory(\n",
    "    'concrete_data_week4/test',\n",
    "    target_size=(image_resize, image_resize),\n",
    "    batch_size=batch_size_training,\n",
    "    shuffle=False,\n",
    "    class_mode='categorical')\n",
    "len(test_generator)"
   ]
  },
  {
   "cell_type": "code",
   "execution_count": 44,
   "metadata": {
    "colab": {
     "base_uri": "https://localhost:8080/",
     "height": 34
    },
    "colab_type": "code",
    "id": "MQz6TTy_QVbZ",
    "outputId": "992eadae-e67d-4d31-fab9-1cd0621948f1"
   },
   "outputs": [
    {
     "data": {
      "text/plain": [
       "99.59999918937683"
      ]
     },
     "execution_count": 44,
     "metadata": {
      "tags": []
     },
     "output_type": "execute_result"
    }
   ],
   "source": [
    "# VGG16 model\n",
    "vgg_acc = model.evaluate_generator(test_generator, len(test_generator))\n",
    "vgg_acc[1]*100"
   ]
  },
  {
   "cell_type": "code",
   "execution_count": 45,
   "metadata": {
    "colab": {
     "base_uri": "https://localhost:8080/",
     "height": 34
    },
    "colab_type": "code",
    "id": "Fb_laulNRneF",
    "outputId": "8ca42581-e561-46db-a7be-4d84d25ccb81"
   },
   "outputs": [
    {
     "data": {
      "text/plain": [
       "100.0"
      ]
     },
     "execution_count": 45,
     "metadata": {
      "tags": []
     },
     "output_type": "execute_result"
    }
   ],
   "source": [
    "# Resnet50 model\n",
    "res_acc = model_resnet.evaluate_generator(test_generator, len(test_generator))\n",
    "res_acc[1]*100"
   ]
  },
  {
   "cell_type": "markdown",
   "metadata": {
    "colab_type": "text",
    "id": "ZJxHgS_BPe_D"
   },
   "source": [
    "## Part 3\n",
    "\n",
    "In this model, you will predict whether the images in the test data are images of cracked concrete or not. You will do the following:\n",
    "\n",
    "1. Use the **predict_generator** method to predict the class of the images in the test data, by passing the test data ImageDataGenerator instance defined in the previous part as an argument. You can learn more about the **predict_generator** method [here](https://keras.io/models/sequential/).\n",
    "2. Report the class predictions of the first five images in the test set. You should print something list this:\n",
    "\n",
    "<center>\n",
    "    <ul style=\"list-style-type:none\">\n",
    "        <li>Positive</li>  \n",
    "        <li>Negative</li> \n",
    "        <li>Positive</li>\n",
    "        <li>Positive</li>\n",
    "        <li>Negative</li>\n",
    "    </ul>\n",
    "</center>"
   ]
  },
  {
   "cell_type": "code",
   "execution_count": 0,
   "metadata": {
    "colab": {
     "base_uri": "https://localhost:8080/",
     "height": 1000
    },
    "colab_type": "code",
    "id": "ZU07nfgjPf9B",
    "outputId": "6371b994-3930-4649-90ad-c5813f4e1b85"
   },
   "outputs": [
    {
     "data": {
      "text/plain": [
       "array([[1.14803679e-05, 9.99988556e-01],\n",
       "       [1.54390356e-09, 1.00000000e+00],\n",
       "       [5.67124953e-05, 9.99943256e-01],\n",
       "       [6.93807015e-05, 9.99930620e-01],\n",
       "       [3.05401130e-07, 9.99999642e-01],\n",
       "       [3.01565450e-07, 9.99999642e-01],\n",
       "       [1.97974936e-04, 9.99802053e-01],\n",
       "       [3.74812480e-05, 9.99962568e-01],\n",
       "       [2.43056638e-05, 9.99975681e-01],\n",
       "       [3.95828858e-04, 9.99604166e-01],\n",
       "       [3.31283081e-05, 9.99966860e-01],\n",
       "       [9.17626676e-06, 9.99990821e-01],\n",
       "       [2.85091932e-08, 1.00000000e+00],\n",
       "       [2.44434807e-04, 9.99755561e-01],\n",
       "       [1.35593553e-04, 9.99864340e-01],\n",
       "       [1.63112093e-11, 1.00000000e+00],\n",
       "       [5.37108281e-06, 9.99994636e-01],\n",
       "       [2.43770210e-05, 9.99975681e-01],\n",
       "       [7.20969729e-06, 9.99992847e-01],\n",
       "       [1.75370616e-04, 9.99824703e-01],\n",
       "       [1.25488325e-04, 9.99874473e-01],\n",
       "       [3.08928847e-08, 1.00000000e+00],\n",
       "       [1.77559647e-04, 9.99822438e-01],\n",
       "       [6.11946161e-05, 9.99938846e-01],\n",
       "       [6.09869312e-04, 9.99390125e-01],\n",
       "       [4.79920672e-08, 1.00000000e+00],\n",
       "       [9.78728986e-06, 9.99990225e-01],\n",
       "       [1.41210148e-05, 9.99985933e-01],\n",
       "       [1.90322939e-03, 9.98096764e-01],\n",
       "       [1.14561853e-05, 9.99988556e-01],\n",
       "       [7.17797884e-05, 9.99928236e-01],\n",
       "       [1.13580945e-05, 9.99988675e-01],\n",
       "       [2.00505415e-03, 9.97995019e-01],\n",
       "       [2.12540105e-03, 9.97874618e-01],\n",
       "       [3.32997948e-01, 6.67002022e-01],\n",
       "       [2.82743331e-05, 9.99971747e-01],\n",
       "       [2.88429874e-04, 9.99711573e-01],\n",
       "       [6.45390945e-03, 9.93546069e-01],\n",
       "       [1.13843135e-09, 1.00000000e+00],\n",
       "       [1.89995397e-09, 1.00000000e+00],\n",
       "       [1.15281782e-05, 9.99988437e-01],\n",
       "       [2.40369815e-07, 9.99999762e-01],\n",
       "       [7.84919620e-01, 2.15080351e-01],\n",
       "       [2.86015478e-07, 9.99999762e-01],\n",
       "       [6.93054288e-04, 9.99306917e-01],\n",
       "       [4.88731253e-04, 9.99511242e-01],\n",
       "       [4.19926038e-03, 9.95800793e-01],\n",
       "       [2.56448373e-04, 9.99743521e-01],\n",
       "       [1.52163819e-04, 9.99847770e-01],\n",
       "       [3.28621559e-06, 9.99996662e-01],\n",
       "       [2.32845938e-04, 9.99767125e-01],\n",
       "       [2.55804607e-05, 9.99974370e-01],\n",
       "       [3.87978903e-03, 9.96120214e-01],\n",
       "       [2.54733891e-06, 9.99997497e-01],\n",
       "       [5.52929007e-02, 9.44707096e-01],\n",
       "       [6.08133960e-05, 9.99939203e-01],\n",
       "       [1.48454646e-07, 9.99999881e-01],\n",
       "       [1.58405688e-04, 9.99841571e-01],\n",
       "       [1.54254976e-05, 9.99984622e-01],\n",
       "       [6.44973654e-04, 9.99355018e-01],\n",
       "       [9.29471717e-05, 9.99907017e-01],\n",
       "       [1.22655078e-03, 9.98773396e-01],\n",
       "       [9.77927570e-08, 9.99999881e-01],\n",
       "       [3.14214063e-04, 9.99685764e-01],\n",
       "       [5.51858880e-02, 9.44814146e-01],\n",
       "       [1.02802962e-01, 8.97197008e-01],\n",
       "       [4.60563524e-06, 9.99995351e-01],\n",
       "       [4.93058978e-05, 9.99950647e-01],\n",
       "       [6.45208183e-06, 9.99993563e-01],\n",
       "       [1.56166734e-05, 9.99984384e-01],\n",
       "       [4.16637143e-08, 1.00000000e+00],\n",
       "       [2.04239811e-07, 9.99999762e-01],\n",
       "       [1.09783876e-04, 9.99890208e-01],\n",
       "       [8.26295987e-02, 9.17370379e-01],\n",
       "       [2.76943482e-03, 9.97230589e-01],\n",
       "       [8.72724897e-08, 9.99999881e-01],\n",
       "       [2.49929745e-02, 9.75006998e-01],\n",
       "       [1.01343188e-02, 9.89865720e-01],\n",
       "       [2.09068134e-03, 9.97909248e-01],\n",
       "       [1.07503420e-05, 9.99989271e-01],\n",
       "       [2.68863724e-03, 9.97311354e-01],\n",
       "       [9.83014203e-08, 9.99999881e-01],\n",
       "       [1.69007235e-05, 9.99983072e-01],\n",
       "       [2.21096769e-07, 9.99999762e-01],\n",
       "       [4.23814390e-06, 9.99995708e-01],\n",
       "       [4.77537373e-03, 9.95224595e-01],\n",
       "       [2.84503358e-06, 9.99997139e-01],\n",
       "       [1.50221695e-05, 9.99984980e-01],\n",
       "       [9.76603815e-07, 9.99999046e-01],\n",
       "       [3.05401130e-07, 9.99999642e-01],\n",
       "       [8.09735070e-07, 9.99999166e-01],\n",
       "       [5.39560569e-03, 9.94604409e-01],\n",
       "       [1.57341765e-06, 9.99998450e-01],\n",
       "       [2.88115434e-08, 1.00000000e+00],\n",
       "       [1.40343967e-03, 9.98596609e-01],\n",
       "       [3.47046033e-02, 9.65295374e-01],\n",
       "       [3.08940616e-06, 9.99996901e-01],\n",
       "       [9.78491971e-06, 9.99990225e-01],\n",
       "       [1.84713781e-01, 8.15286219e-01],\n",
       "       [1.95038865e-05, 9.99980450e-01],\n",
       "       [2.88115434e-08, 1.00000000e+00],\n",
       "       [8.02233302e-08, 9.99999881e-01],\n",
       "       [3.41268105e-06, 9.99996543e-01],\n",
       "       [5.56559428e-07, 9.99999404e-01],\n",
       "       [1.80304807e-03, 9.98197019e-01],\n",
       "       [1.18734157e-07, 9.99999881e-01],\n",
       "       [1.01849386e-04, 9.99898195e-01],\n",
       "       [7.74412900e-02, 9.22558725e-01],\n",
       "       [5.30952311e-05, 9.99946952e-01],\n",
       "       [8.26440860e-10, 1.00000000e+00],\n",
       "       [2.57389364e-03, 9.97426093e-01],\n",
       "       [1.22994557e-08, 1.00000000e+00],\n",
       "       [2.18535191e-03, 9.97814655e-01],\n",
       "       [7.53294735e-05, 9.99924660e-01],\n",
       "       [2.42722663e-03, 9.97572720e-01],\n",
       "       [3.92541042e-05, 9.99960780e-01],\n",
       "       [1.28435045e-06, 9.99998689e-01],\n",
       "       [5.39731275e-07, 9.99999404e-01],\n",
       "       [3.84416664e-04, 9.99615550e-01],\n",
       "       [1.15856470e-03, 9.98841465e-01],\n",
       "       [8.41651345e-05, 9.99915838e-01],\n",
       "       [1.68405563e-06, 9.99998331e-01],\n",
       "       [1.42982146e-02, 9.85701799e-01],\n",
       "       [3.89542198e-03, 9.96104598e-01],\n",
       "       [1.72021643e-07, 9.99999881e-01],\n",
       "       [1.73277276e-05, 9.99982715e-01],\n",
       "       [1.36028398e-02, 9.86397207e-01],\n",
       "       [1.11085840e-01, 8.88914108e-01],\n",
       "       [3.56259306e-07, 9.99999642e-01],\n",
       "       [7.03609316e-04, 9.99296427e-01],\n",
       "       [7.12162702e-08, 9.99999881e-01],\n",
       "       [3.31221963e-03, 9.96687829e-01],\n",
       "       [5.32158495e-09, 1.00000000e+00],\n",
       "       [1.95751153e-03, 9.98042464e-01],\n",
       "       [1.56246608e-06, 9.99998450e-01],\n",
       "       [2.13157819e-07, 9.99999762e-01],\n",
       "       [8.26604024e-04, 9.99173343e-01],\n",
       "       [1.66738570e-08, 1.00000000e+00],\n",
       "       [1.61782559e-03, 9.98382211e-01],\n",
       "       [8.52748538e-09, 1.00000000e+00],\n",
       "       [1.28757645e-04, 9.99871254e-01],\n",
       "       [5.79659283e-01, 4.20340687e-01],\n",
       "       [1.21767334e-05, 9.99987841e-01],\n",
       "       [2.31030924e-07, 9.99999762e-01],\n",
       "       [1.26401246e-05, 9.99987364e-01],\n",
       "       [1.50758773e-04, 9.99849200e-01],\n",
       "       [6.57388046e-06, 9.99993443e-01],\n",
       "       [1.21116368e-02, 9.87888396e-01],\n",
       "       [4.27298102e-04, 9.99572694e-01],\n",
       "       [1.35106737e-09, 1.00000000e+00],\n",
       "       [3.41795203e-05, 9.99965787e-01],\n",
       "       [1.19863125e-03, 9.98801351e-01],\n",
       "       [1.11818510e-09, 1.00000000e+00],\n",
       "       [1.20849011e-10, 1.00000000e+00],\n",
       "       [2.35088784e-02, 9.76491153e-01],\n",
       "       [1.22586664e-06, 9.99998808e-01],\n",
       "       [1.98845542e-03, 9.98011470e-01],\n",
       "       [3.08928847e-08, 1.00000000e+00],\n",
       "       [3.63545696e-04, 9.99636412e-01],\n",
       "       [1.88882510e-09, 1.00000000e+00],\n",
       "       [1.01850262e-07, 9.99999881e-01],\n",
       "       [4.63747904e-02, 9.53625202e-01],\n",
       "       [2.53649312e-03, 9.97463465e-01],\n",
       "       [1.55151952e-02, 9.84484792e-01],\n",
       "       [3.61596086e-09, 1.00000000e+00],\n",
       "       [1.32954732e-01, 8.67045343e-01],\n",
       "       [3.12820248e-06, 9.99996901e-01],\n",
       "       [5.31456790e-05, 9.99946833e-01],\n",
       "       [8.66048477e-09, 1.00000000e+00],\n",
       "       [1.63796148e-03, 9.98362005e-01],\n",
       "       [9.18232601e-09, 1.00000000e+00],\n",
       "       [1.97366122e-02, 9.80263412e-01],\n",
       "       [1.27746853e-08, 1.00000000e+00],\n",
       "       [3.99751589e-04, 9.99600232e-01],\n",
       "       [8.46512121e-05, 9.99915361e-01],\n",
       "       [4.88051330e-04, 9.99511957e-01],\n",
       "       [3.12812226e-05, 9.99968767e-01],\n",
       "       [5.80373926e-05, 9.99941945e-01],\n",
       "       [1.52627877e-06, 9.99998450e-01],\n",
       "       [7.40575160e-07, 9.99999285e-01],\n",
       "       [7.37564889e-08, 9.99999881e-01],\n",
       "       [3.56808724e-03, 9.96431947e-01],\n",
       "       [1.79189446e-05, 9.99982119e-01],\n",
       "       [5.25039604e-06, 9.99994755e-01],\n",
       "       [4.96837683e-02, 9.50316250e-01],\n",
       "       [1.98873400e-04, 9.99801099e-01],\n",
       "       [5.52443635e-05, 9.99944806e-01],\n",
       "       [5.13166115e-02, 9.48683441e-01],\n",
       "       [4.32935958e-05, 9.99956727e-01],\n",
       "       [5.83368674e-05, 9.99941707e-01],\n",
       "       [6.93604670e-05, 9.99930620e-01],\n",
       "       [6.67052591e-05, 9.99933243e-01],\n",
       "       [4.50333406e-04, 9.99549687e-01],\n",
       "       [1.53552782e-09, 1.00000000e+00],\n",
       "       [1.80841738e-07, 9.99999762e-01],\n",
       "       [6.70827649e-06, 9.99993324e-01],\n",
       "       [4.61099902e-04, 9.99538898e-01],\n",
       "       [5.67447423e-05, 9.99943256e-01],\n",
       "       [2.92120239e-04, 9.99707878e-01],\n",
       "       [2.74202102e-05, 9.99972582e-01],\n",
       "       [9.97935057e-01, 2.06492865e-03],\n",
       "       [9.50114906e-01, 4.98851091e-02],\n",
       "       [9.56340730e-01, 4.36592102e-02],\n",
       "       [9.94938612e-01, 5.06138150e-03],\n",
       "       [9.88248825e-01, 1.17510986e-02],\n",
       "       [9.90649164e-01, 9.35081765e-03],\n",
       "       [9.99915242e-01, 8.47419942e-05],\n",
       "       [9.78219867e-01, 2.17801966e-02],\n",
       "       [9.93470550e-01, 6.52940571e-03],\n",
       "       [9.99665976e-01, 3.34061653e-04],\n",
       "       [9.94287074e-01, 5.71292127e-03],\n",
       "       [9.92087781e-01, 7.91227259e-03],\n",
       "       [9.94319916e-01, 5.68007631e-03],\n",
       "       [9.99156475e-01, 8.43583548e-04],\n",
       "       [9.89848793e-01, 1.01511991e-02],\n",
       "       [9.94967759e-01, 5.03220642e-03],\n",
       "       [9.88196135e-01, 1.18039465e-02],\n",
       "       [9.92355585e-01, 7.64441630e-03],\n",
       "       [9.84905779e-01, 1.50942625e-02],\n",
       "       [9.94502187e-01, 5.49777504e-03],\n",
       "       [9.83583152e-01, 1.64168011e-02],\n",
       "       [9.93129313e-01, 6.87068794e-03],\n",
       "       [9.99516726e-01, 4.83290612e-04],\n",
       "       [9.99595225e-01, 4.04777733e-04],\n",
       "       [9.80963230e-01, 1.90367997e-02],\n",
       "       [9.92615461e-01, 7.38453213e-03],\n",
       "       [9.16841388e-01, 8.31585974e-02],\n",
       "       [9.95599866e-01, 4.40008938e-03],\n",
       "       [9.70520198e-01, 2.94797886e-02],\n",
       "       [9.97533560e-01, 2.46646581e-03],\n",
       "       [9.82317090e-01, 1.76828541e-02],\n",
       "       [9.94153440e-01, 5.84656140e-03],\n",
       "       [9.94210958e-01, 5.78910671e-03],\n",
       "       [9.91890430e-01, 8.10955931e-03],\n",
       "       [9.91592169e-01, 8.40777159e-03],\n",
       "       [9.93000746e-01, 6.99925330e-03],\n",
       "       [9.98491168e-01, 1.50884734e-03],\n",
       "       [9.99987364e-01, 1.25786746e-05],\n",
       "       [9.98873174e-01, 1.12677075e-03],\n",
       "       [9.94534492e-01, 5.46553312e-03],\n",
       "       [9.93863344e-01, 6.13666978e-03],\n",
       "       [9.91759837e-01, 8.24014936e-03],\n",
       "       [9.92950439e-01, 7.04962853e-03],\n",
       "       [9.83624816e-01, 1.63751990e-02],\n",
       "       [9.91915762e-01, 8.08424223e-03],\n",
       "       [9.94884312e-01, 5.11570694e-03],\n",
       "       [9.94393229e-01, 5.60676027e-03],\n",
       "       [9.86127138e-01, 1.38728693e-02],\n",
       "       [9.79513586e-01, 2.04864312e-02],\n",
       "       [9.97297108e-01, 2.70284899e-03],\n",
       "       [9.87707675e-01, 1.22922948e-02],\n",
       "       [9.98946011e-01, 1.05402758e-03],\n",
       "       [9.93287265e-01, 6.71276962e-03],\n",
       "       [9.92896020e-01, 7.10404618e-03],\n",
       "       [9.89392638e-01, 1.06073869e-02],\n",
       "       [9.98913407e-01, 1.08663400e-03],\n",
       "       [9.95330095e-01, 4.66988096e-03],\n",
       "       [9.92911160e-01, 7.08882557e-03],\n",
       "       [9.71719742e-01, 2.82802526e-02],\n",
       "       [7.78999746e-01, 2.21000239e-01],\n",
       "       [9.85704005e-01, 1.42959962e-02],\n",
       "       [9.97170746e-01, 2.82922084e-03],\n",
       "       [9.91221786e-01, 8.77822563e-03],\n",
       "       [9.88337219e-01, 1.16627626e-02],\n",
       "       [9.98078108e-01, 1.92193489e-03],\n",
       "       [9.91704583e-01, 8.29541031e-03],\n",
       "       [9.98653889e-01, 1.34602748e-03],\n",
       "       [9.96482253e-01, 3.51767568e-03],\n",
       "       [9.95065153e-01, 4.93483013e-03],\n",
       "       [9.98208284e-01, 1.79172272e-03],\n",
       "       [9.98345852e-01, 1.65418244e-03],\n",
       "       [9.99770343e-01, 2.29655561e-04],\n",
       "       [9.93036807e-01, 6.96319854e-03],\n",
       "       [9.93018448e-01, 6.98150834e-03],\n",
       "       [9.95559335e-01, 4.44066385e-03],\n",
       "       [9.86806154e-01, 1.31938336e-02],\n",
       "       [9.96109307e-01, 3.89070692e-03],\n",
       "       [9.93743360e-01, 6.25659153e-03],\n",
       "       [9.97199416e-01, 2.80059688e-03],\n",
       "       [9.68559563e-01, 3.14404517e-02],\n",
       "       [9.94911492e-01, 5.08853933e-03],\n",
       "       [9.97961640e-01, 2.03839131e-03],\n",
       "       [9.75453794e-01, 2.45462302e-02],\n",
       "       [9.82163131e-01, 1.78368725e-02],\n",
       "       [9.91594374e-01, 8.40561464e-03],\n",
       "       [9.98735249e-01, 1.26476400e-03],\n",
       "       [9.56187189e-01, 4.38128039e-02],\n",
       "       [9.89313185e-01, 1.06867878e-02],\n",
       "       [9.86406744e-01, 1.35932118e-02],\n",
       "       [9.92294431e-01, 7.70555390e-03],\n",
       "       [9.99618173e-01, 3.81764927e-04],\n",
       "       [9.96938944e-01, 3.06110084e-03],\n",
       "       [9.99330282e-01, 6.69778965e-04],\n",
       "       [9.96568203e-01, 3.43179656e-03],\n",
       "       [9.97120023e-01, 2.88006198e-03],\n",
       "       [9.82013762e-01, 1.79862212e-02],\n",
       "       [9.93047774e-01, 6.95229368e-03],\n",
       "       [9.85871971e-01, 1.41280843e-02],\n",
       "       [9.97946680e-01, 2.05331482e-03],\n",
       "       [9.59719419e-01, 4.02805582e-02],\n",
       "       [9.96570826e-01, 3.42913438e-03],\n",
       "       [9.99468029e-01, 5.31935075e-04],\n",
       "       [9.91808474e-01, 8.19149613e-03],\n",
       "       [9.89802659e-01, 1.01973908e-02],\n",
       "       [9.93339479e-01, 6.66056294e-03],\n",
       "       [9.94584024e-01, 5.41596906e-03],\n",
       "       [9.86075103e-01, 1.39249237e-02],\n",
       "       [9.98803496e-01, 1.19648839e-03],\n",
       "       [9.75592852e-01, 2.44070981e-02],\n",
       "       [9.86896098e-01, 1.31039508e-02],\n",
       "       [9.98761177e-01, 1.23886985e-03],\n",
       "       [9.77755666e-01, 2.22443305e-02],\n",
       "       [9.95827496e-01, 4.17251233e-03],\n",
       "       [9.94295895e-01, 5.70415473e-03],\n",
       "       [9.81570125e-01, 1.84299331e-02],\n",
       "       [9.96242762e-01, 3.75723909e-03],\n",
       "       [9.99871731e-01, 1.28290718e-04],\n",
       "       [9.96650636e-01, 3.34933400e-03],\n",
       "       [9.92829263e-01, 7.17077218e-03],\n",
       "       [9.96307850e-01, 3.69212124e-03],\n",
       "       [9.88265395e-01, 1.17346421e-02],\n",
       "       [9.98932540e-01, 1.06750766e-03],\n",
       "       [9.90563869e-01, 9.43618268e-03],\n",
       "       [9.95918930e-01, 4.08110814e-03],\n",
       "       [9.97812629e-01, 2.18730420e-03],\n",
       "       [9.96817827e-01, 3.18214903e-03],\n",
       "       [9.66027617e-01, 3.39723751e-02],\n",
       "       [9.87239659e-01, 1.27603170e-02],\n",
       "       [9.88675475e-01, 1.13245063e-02],\n",
       "       [9.61011529e-01, 3.89884375e-02],\n",
       "       [8.44953001e-01, 1.55047029e-01],\n",
       "       [9.93432105e-01, 6.56796945e-03],\n",
       "       [9.96982276e-01, 3.01774708e-03],\n",
       "       [9.91346061e-01, 8.65390804e-03],\n",
       "       [9.96664226e-01, 3.33581283e-03],\n",
       "       [9.97377634e-01, 2.62240600e-03],\n",
       "       [9.95860279e-01, 4.13977914e-03],\n",
       "       [9.86893773e-01, 1.31062446e-02],\n",
       "       [9.98661876e-01, 1.33814558e-03],\n",
       "       [9.97829974e-01, 2.16999208e-03],\n",
       "       [9.95806575e-01, 4.19345405e-03],\n",
       "       [9.99882340e-01, 1.17668831e-04],\n",
       "       [9.90488410e-01, 9.51154903e-03],\n",
       "       [9.95261550e-01, 4.73845750e-03],\n",
       "       [9.89689350e-01, 1.03106890e-02],\n",
       "       [9.99520898e-01, 4.79094189e-04],\n",
       "       [9.99148846e-01, 8.51160730e-04],\n",
       "       [8.71987998e-01, 1.28012016e-01],\n",
       "       [9.84780312e-01, 1.52196931e-02],\n",
       "       [9.99364674e-01, 6.35325327e-04],\n",
       "       [9.96319175e-01, 3.68077075e-03],\n",
       "       [9.93591070e-01, 6.40895404e-03],\n",
       "       [9.95892167e-01, 4.10784548e-03],\n",
       "       [9.83650625e-01, 1.63493119e-02],\n",
       "       [9.98494148e-01, 1.50587829e-03],\n",
       "       [9.94743943e-01, 5.25605306e-03],\n",
       "       [9.93820012e-01, 6.18003495e-03],\n",
       "       [9.96278107e-01, 3.72193335e-03],\n",
       "       [9.99199569e-01, 8.00499634e-04],\n",
       "       [9.97926354e-01, 2.07360159e-03],\n",
       "       [9.80502963e-01, 1.94970239e-02],\n",
       "       [9.78279173e-01, 2.17208005e-02],\n",
       "       [9.99141574e-01, 8.58385058e-04],\n",
       "       [9.93244827e-01, 6.75516855e-03],\n",
       "       [9.92581129e-01, 7.41884019e-03],\n",
       "       [9.96184528e-01, 3.81547981e-03],\n",
       "       [9.94170070e-01, 5.82992798e-03],\n",
       "       [9.82706547e-01, 1.72934495e-02],\n",
       "       [9.96676445e-01, 3.32359644e-03],\n",
       "       [9.85116839e-01, 1.48831923e-02],\n",
       "       [9.97563243e-01, 2.43679411e-03],\n",
       "       [8.06807220e-01, 1.93192795e-01],\n",
       "       [9.93411005e-01, 6.58893166e-03],\n",
       "       [9.94142354e-01, 5.85761946e-03],\n",
       "       [9.99016047e-01, 9.83923557e-04],\n",
       "       [9.96962965e-01, 3.03707574e-03],\n",
       "       [9.80924547e-01, 1.90754570e-02],\n",
       "       [9.95921731e-01, 4.07831417e-03],\n",
       "       [9.90809560e-01, 9.19040199e-03],\n",
       "       [9.96090353e-01, 3.90965026e-03],\n",
       "       [9.87017095e-01, 1.29829068e-02],\n",
       "       [9.99460399e-01, 5.39650908e-04],\n",
       "       [9.89484966e-01, 1.05150361e-02],\n",
       "       [9.98687685e-01, 1.31232373e-03],\n",
       "       [9.99337494e-01, 6.62432460e-04],\n",
       "       [9.97365415e-01, 2.63458048e-03],\n",
       "       [9.97164428e-01, 2.83550727e-03],\n",
       "       [9.94910538e-01, 5.08951256e-03],\n",
       "       [9.94745374e-01, 5.25461230e-03],\n",
       "       [9.96569872e-01, 3.43015976e-03],\n",
       "       [9.95963216e-01, 4.03672177e-03],\n",
       "       [9.94265139e-01, 5.73488558e-03],\n",
       "       [9.89957273e-01, 1.00427317e-02],\n",
       "       [9.95967627e-01, 4.03242279e-03],\n",
       "       [9.96340156e-01, 3.65986559e-03],\n",
       "       [9.83180821e-01, 1.68191884e-02],\n",
       "       [9.91669297e-01, 8.33072327e-03],\n",
       "       [9.96073365e-01, 3.92663339e-03],\n",
       "       [9.99142647e-01, 8.57366598e-04],\n",
       "       [9.98672485e-01, 1.32751779e-03],\n",
       "       [9.98938024e-01, 1.06196641e-03],\n",
       "       [9.85770226e-01, 1.42298155e-02],\n",
       "       [9.98512208e-01, 1.48777652e-03],\n",
       "       [9.68896151e-01, 3.11038438e-02],\n",
       "       [9.91392493e-01, 8.60754400e-03],\n",
       "       [9.77850378e-01, 2.21495926e-02],\n",
       "       [9.92844164e-01, 7.15582026e-03],\n",
       "       [9.94142830e-01, 5.85721154e-03],\n",
       "       [9.96027827e-01, 3.97221139e-03],\n",
       "       [9.95172083e-01, 4.82797110e-03],\n",
       "       [9.98414159e-01, 1.58586097e-03],\n",
       "       [9.92080748e-01, 7.91922957e-03],\n",
       "       [9.95013773e-01, 4.98626661e-03],\n",
       "       [9.98323858e-01, 1.67618576e-03],\n",
       "       [9.87922013e-01, 1.20779471e-02],\n",
       "       [9.79454756e-01, 2.05452554e-02],\n",
       "       [9.97246742e-01, 2.75329594e-03],\n",
       "       [9.99043643e-01, 9.56332136e-04],\n",
       "       [9.98760343e-01, 1.23971503e-03],\n",
       "       [9.99128878e-01, 8.71150231e-04],\n",
       "       [9.88789916e-01, 1.12100998e-02],\n",
       "       [9.95785415e-01, 4.21460532e-03],\n",
       "       [9.98848200e-01, 1.15174509e-03],\n",
       "       [9.97957706e-01, 2.04223208e-03],\n",
       "       [9.95615602e-01, 4.38441150e-03],\n",
       "       [9.87429202e-01, 1.25708068e-02],\n",
       "       [9.96697426e-01, 3.30259814e-03],\n",
       "       [9.95460212e-01, 4.53975890e-03],\n",
       "       [9.97937322e-01, 2.06274865e-03],\n",
       "       [9.88776624e-01, 1.12233749e-02],\n",
       "       [9.34736729e-01, 6.52632713e-02],\n",
       "       [9.91292298e-01, 8.70770309e-03],\n",
       "       [9.92767215e-01, 7.23281130e-03],\n",
       "       [9.90993917e-01, 9.00611468e-03],\n",
       "       [9.95867729e-01, 4.13229223e-03],\n",
       "       [9.98791993e-01, 1.20801223e-03],\n",
       "       [9.83855665e-01, 1.61444023e-02],\n",
       "       [9.96787667e-01, 3.21240677e-03],\n",
       "       [9.83612776e-01, 1.63871460e-02],\n",
       "       [7.67320096e-01, 2.32679904e-01],\n",
       "       [9.18054461e-01, 8.19455609e-02],\n",
       "       [9.87923443e-01, 1.20765595e-02],\n",
       "       [9.96941984e-01, 3.05804471e-03],\n",
       "       [8.66598248e-01, 1.33401752e-01],\n",
       "       [9.98809814e-01, 1.19023770e-03],\n",
       "       [9.98164356e-01, 1.83565554e-03],\n",
       "       [9.78944898e-01, 2.10551396e-02],\n",
       "       [9.91808474e-01, 8.19156598e-03],\n",
       "       [9.97403681e-01, 2.59631942e-03],\n",
       "       [9.94891644e-01, 5.10837324e-03],\n",
       "       [7.45604201e-09, 1.00000000e+00],\n",
       "       [1.17958425e-05, 9.99988198e-01],\n",
       "       [4.14558826e-03, 9.95854497e-01],\n",
       "       [3.93906812e-04, 9.99606073e-01],\n",
       "       [9.01500061e-06, 9.99990940e-01],\n",
       "       [5.58921369e-04, 9.99441087e-01],\n",
       "       [2.79655936e-03, 9.97203469e-01],\n",
       "       [1.29365653e-05, 9.99987006e-01],\n",
       "       [2.74230212e-01, 7.25769818e-01],\n",
       "       [7.28748839e-10, 1.00000000e+00],\n",
       "       [1.03910145e-06, 9.99998927e-01],\n",
       "       [9.54526854e-07, 9.99999046e-01],\n",
       "       [4.70854924e-04, 9.99529123e-01],\n",
       "       [4.79375467e-06, 9.99995232e-01],\n",
       "       [3.63174377e-06, 9.99996424e-01],\n",
       "       [4.55502732e-06, 9.99995470e-01],\n",
       "       [5.79431467e-02, 9.42056835e-01],\n",
       "       [4.48769022e-09, 1.00000000e+00],\n",
       "       [5.77606620e-08, 1.00000000e+00],\n",
       "       [2.80522755e-07, 9.99999762e-01],\n",
       "       [6.78548031e-06, 9.99993205e-01],\n",
       "       [5.48073585e-05, 9.99945164e-01],\n",
       "       [2.24299743e-06, 9.99997735e-01],\n",
       "       [4.69081169e-05, 9.99953032e-01],\n",
       "       [1.12370844e-03, 9.98876274e-01],\n",
       "       [6.98955264e-03, 9.93010461e-01],\n",
       "       [4.24123270e-09, 1.00000000e+00],\n",
       "       [8.20216446e-05, 9.99917984e-01],\n",
       "       [1.10394532e-04, 9.99889612e-01],\n",
       "       [9.33863134e-07, 9.99999046e-01],\n",
       "       [8.69923388e-04, 9.99130070e-01],\n",
       "       [1.33868680e-05, 9.99986649e-01],\n",
       "       [1.62096384e-07, 9.99999881e-01],\n",
       "       [2.73297913e-03, 9.97267008e-01],\n",
       "       [2.65442523e-05, 9.99973416e-01],\n",
       "       [2.20097703e-04, 9.99779880e-01],\n",
       "       [6.05485984e-05, 9.99939442e-01],\n",
       "       [9.66089283e-06, 9.99990344e-01],\n",
       "       [2.11336967e-02, 9.78866279e-01],\n",
       "       [1.22979909e-04, 9.99876976e-01],\n",
       "       [9.09961853e-03, 9.90900397e-01],\n",
       "       [1.19003290e-02, 9.88099754e-01],\n",
       "       [2.36461381e-03, 9.97635365e-01],\n",
       "       [6.58134311e-08, 9.99999881e-01],\n",
       "       [2.29983794e-04, 9.99769986e-01],\n",
       "       [4.69867729e-07, 9.99999523e-01],\n",
       "       [7.55313465e-07, 9.99999285e-01],\n",
       "       [6.51721930e-05, 9.99934793e-01],\n",
       "       [1.75186753e-04, 9.99824822e-01],\n",
       "       [2.20595440e-03, 9.97794032e-01]], dtype=float32)"
      ]
     },
     "execution_count": 33,
     "metadata": {
      "tags": []
     },
     "output_type": "execute_result"
    }
   ],
   "source": [
    "# VGG16 model\n",
    "vgg_pred = model.predict_generator(test_generator, len(test_generator))\n",
    "vgg_pred"
   ]
  },
  {
   "cell_type": "code",
   "execution_count": 0,
   "metadata": {
    "colab": {
     "base_uri": "https://localhost:8080/",
     "height": 1000
    },
    "colab_type": "code",
    "id": "qBQf2YIhSHpa",
    "outputId": "18d9c969-7ea7-429e-e02d-9331241b9f74"
   },
   "outputs": [
    {
     "data": {
      "text/plain": [
       "array([[1.21573430e-06, 9.99998808e-01],\n",
       "       [9.73977194e-07, 9.99999046e-01],\n",
       "       [2.18514765e-06, 9.99997854e-01],\n",
       "       [2.22097515e-06, 9.99997735e-01],\n",
       "       [4.12372901e-04, 9.99587595e-01],\n",
       "       [8.33352516e-08, 9.99999881e-01],\n",
       "       [5.35308245e-05, 9.99946475e-01],\n",
       "       [1.56728311e-05, 9.99984384e-01],\n",
       "       [3.46142187e-04, 9.99653816e-01],\n",
       "       [1.26633386e-05, 9.99987364e-01],\n",
       "       [2.65380280e-04, 9.99734581e-01],\n",
       "       [2.55155810e-05, 9.99974489e-01],\n",
       "       [8.93519682e-05, 9.99910593e-01],\n",
       "       [9.75274088e-06, 9.99990225e-01],\n",
       "       [5.98618317e-05, 9.99940157e-01],\n",
       "       [1.61581222e-04, 9.99838352e-01],\n",
       "       [9.66452353e-06, 9.99990344e-01],\n",
       "       [5.67603893e-05, 9.99943256e-01],\n",
       "       [2.55389787e-05, 9.99974489e-01],\n",
       "       [1.92964828e-04, 9.99807060e-01],\n",
       "       [1.68952611e-05, 9.99983072e-01],\n",
       "       [2.00264587e-08, 1.00000000e+00],\n",
       "       [4.80876915e-05, 9.99951959e-01],\n",
       "       [9.44518659e-04, 9.99055445e-01],\n",
       "       [9.76533101e-07, 9.99999046e-01],\n",
       "       [2.04642183e-05, 9.99979496e-01],\n",
       "       [4.46338556e-04, 9.99553621e-01],\n",
       "       [3.44295199e-06, 9.99996543e-01],\n",
       "       [8.73450881e-06, 9.99991298e-01],\n",
       "       [2.18751025e-04, 9.99781311e-01],\n",
       "       [3.08551407e-08, 1.00000000e+00],\n",
       "       [1.91355757e-05, 9.99980807e-01],\n",
       "       [5.54378221e-06, 9.99994397e-01],\n",
       "       [1.25992046e-05, 9.99987364e-01],\n",
       "       [5.44178583e-05, 9.99945521e-01],\n",
       "       [6.99660450e-05, 9.99930024e-01],\n",
       "       [8.64516551e-05, 9.99913573e-01],\n",
       "       [2.41330918e-06, 9.99997616e-01],\n",
       "       [2.44135968e-04, 9.99755919e-01],\n",
       "       [1.62933122e-06, 9.99998331e-01],\n",
       "       [2.03964573e-05, 9.99979615e-01],\n",
       "       [2.03183621e-01, 7.96816409e-01],\n",
       "       [4.49819272e-05, 9.99955058e-01],\n",
       "       [4.36521276e-07, 9.99999523e-01],\n",
       "       [1.24786391e-06, 9.99998808e-01],\n",
       "       [9.86333180e-05, 9.99901414e-01],\n",
       "       [2.22966992e-06, 9.99997735e-01],\n",
       "       [2.07630525e-04, 9.99792397e-01],\n",
       "       [5.48172429e-05, 9.99945164e-01],\n",
       "       [4.62808138e-08, 1.00000000e+00],\n",
       "       [1.31919896e-05, 9.99986768e-01],\n",
       "       [4.48131439e-04, 9.99551833e-01],\n",
       "       [6.62644823e-07, 9.99999285e-01],\n",
       "       [2.57663345e-07, 9.99999762e-01],\n",
       "       [4.26037732e-05, 9.99957442e-01],\n",
       "       [1.03172829e-06, 9.99998927e-01],\n",
       "       [3.43033462e-05, 9.99965668e-01],\n",
       "       [1.10164592e-05, 9.99989033e-01],\n",
       "       [8.68506788e-07, 9.99999166e-01],\n",
       "       [2.51435250e-09, 1.00000000e+00],\n",
       "       [1.43384057e-06, 9.99998569e-01],\n",
       "       [2.46154284e-03, 9.97538447e-01],\n",
       "       [1.47219363e-03, 9.98527765e-01],\n",
       "       [4.70640633e-04, 9.99529362e-01],\n",
       "       [3.05322800e-07, 9.99999642e-01],\n",
       "       [1.55118247e-02, 9.84488130e-01],\n",
       "       [2.42727995e-03, 9.97572720e-01],\n",
       "       [2.02784918e-06, 9.99997973e-01],\n",
       "       [2.47434802e-08, 1.00000000e+00],\n",
       "       [8.51391931e-04, 9.99148607e-01],\n",
       "       [3.49669717e-04, 9.99650359e-01],\n",
       "       [3.47300047e-05, 9.99965310e-01],\n",
       "       [9.81222402e-05, 9.99901891e-01],\n",
       "       [2.97212566e-04, 9.99702752e-01],\n",
       "       [3.31930816e-04, 9.99668121e-01],\n",
       "       [4.55964300e-06, 9.99995470e-01],\n",
       "       [5.45086152e-07, 9.99999404e-01],\n",
       "       [1.06583146e-04, 9.99893427e-01],\n",
       "       [1.13875722e-05, 9.99988556e-01],\n",
       "       [4.11347764e-06, 9.99995828e-01],\n",
       "       [1.27470867e-05, 9.99987245e-01],\n",
       "       [1.86863217e-05, 9.99981284e-01],\n",
       "       [3.34398443e-04, 9.99665618e-01],\n",
       "       [2.58056625e-05, 9.99974251e-01],\n",
       "       [5.11917415e-06, 9.99994874e-01],\n",
       "       [3.23342356e-05, 9.99967694e-01],\n",
       "       [1.35692483e-06, 9.99998689e-01],\n",
       "       [1.29525131e-02, 9.87047553e-01],\n",
       "       [2.99587759e-06, 9.99997020e-01],\n",
       "       [2.49790901e-06, 9.99997497e-01],\n",
       "       [3.69923612e-07, 9.99999642e-01],\n",
       "       [9.29674541e-04, 9.99070346e-01],\n",
       "       [1.88718448e-04, 9.99811351e-01],\n",
       "       [2.08597771e-06, 9.99997973e-01],\n",
       "       [3.28863916e-06, 9.99996662e-01],\n",
       "       [1.85266072e-05, 9.99981523e-01],\n",
       "       [5.86575014e-04, 9.99413490e-01],\n",
       "       [7.85161610e-05, 9.99921441e-01],\n",
       "       [5.07324061e-04, 9.99492645e-01],\n",
       "       [1.75247703e-06, 9.99998212e-01],\n",
       "       [9.99666810e-01, 3.33212374e-04],\n",
       "       [9.97846723e-01, 2.15327484e-03],\n",
       "       [9.90518630e-01, 9.48141422e-03],\n",
       "       [9.97797012e-01, 2.20302399e-03],\n",
       "       [9.99184191e-01, 8.15853709e-04],\n",
       "       [9.99806464e-01, 1.93561122e-04],\n",
       "       [9.99735653e-01, 2.64329079e-04],\n",
       "       [9.99808848e-01, 1.91177562e-04],\n",
       "       [9.99876738e-01, 1.23207035e-04],\n",
       "       [9.99700308e-01, 2.99696054e-04],\n",
       "       [9.99784529e-01, 2.15533888e-04],\n",
       "       [9.98335540e-01, 1.66449067e-03],\n",
       "       [9.99788105e-01, 2.11931430e-04],\n",
       "       [9.99594033e-01, 4.05948027e-04],\n",
       "       [9.93977427e-01, 6.02252549e-03],\n",
       "       [9.98887002e-01, 1.11299590e-03],\n",
       "       [9.98740375e-01, 1.25964021e-03],\n",
       "       [9.99258816e-01, 7.41207390e-04],\n",
       "       [9.99655128e-01, 3.44860397e-04],\n",
       "       [9.99260604e-01, 7.39342475e-04],\n",
       "       [9.99715507e-01, 2.84471578e-04],\n",
       "       [9.99277294e-01, 7.22676574e-04],\n",
       "       [9.98865366e-01, 1.13468175e-03],\n",
       "       [9.99464929e-01, 5.35121362e-04],\n",
       "       [9.98318195e-01, 1.68185902e-03],\n",
       "       [9.99611080e-01, 3.88952409e-04],\n",
       "       [9.94435549e-01, 5.56444190e-03],\n",
       "       [9.99177039e-01, 8.22885137e-04],\n",
       "       [9.99494910e-01, 5.05067641e-04],\n",
       "       [9.99631286e-01, 3.68716486e-04],\n",
       "       [9.93447840e-01, 6.55210810e-03],\n",
       "       [9.99590933e-01, 4.09023924e-04],\n",
       "       [9.99399185e-01, 6.00767031e-04],\n",
       "       [9.97395396e-01, 2.60456372e-03],\n",
       "       [9.99423742e-01, 5.76337043e-04],\n",
       "       [9.97736812e-01, 2.26315670e-03],\n",
       "       [9.98825014e-01, 1.17493188e-03],\n",
       "       [9.98443902e-01, 1.55613665e-03],\n",
       "       [9.98667717e-01, 1.33223750e-03],\n",
       "       [9.99790609e-01, 2.09431921e-04],\n",
       "       [9.99791801e-01, 2.08164332e-04],\n",
       "       [9.98702884e-01, 1.29711395e-03],\n",
       "       [9.98407185e-01, 1.59285392e-03],\n",
       "       [9.99552906e-01, 4.47122555e-04],\n",
       "       [9.97951925e-01, 2.04804586e-03],\n",
       "       [9.99783456e-01, 2.16534332e-04],\n",
       "       [9.99664187e-01, 3.35830351e-04],\n",
       "       [9.95991051e-01, 4.00894508e-03],\n",
       "       [9.99515772e-01, 4.84231772e-04],\n",
       "       [9.99706924e-01, 2.93067278e-04],\n",
       "       [9.93316770e-01, 6.68325275e-03],\n",
       "       [9.99858379e-01, 1.41612691e-04],\n",
       "       [9.99019146e-01, 9.80885117e-04],\n",
       "       [9.99676704e-01, 3.23368673e-04],\n",
       "       [9.95789587e-01, 4.21046512e-03],\n",
       "       [9.99742568e-01, 2.57438049e-04],\n",
       "       [9.99009013e-01, 9.90924658e-04],\n",
       "       [9.99855280e-01, 1.44755235e-04],\n",
       "       [9.98314738e-01, 1.68527954e-03],\n",
       "       [8.68519366e-01, 1.31480604e-01],\n",
       "       [9.98872697e-01, 1.12726633e-03],\n",
       "       [9.99684095e-01, 3.15888610e-04],\n",
       "       [9.99583662e-01, 4.16333118e-04],\n",
       "       [9.98792648e-01, 1.20730128e-03],\n",
       "       [9.99539018e-01, 4.61064774e-04],\n",
       "       [9.99601901e-01, 3.98075266e-04],\n",
       "       [9.99438584e-01, 5.61409164e-04],\n",
       "       [9.99649644e-01, 3.50338378e-04],\n",
       "       [9.99724209e-01, 2.75823229e-04],\n",
       "       [9.99377310e-01, 6.22681633e-04],\n",
       "       [9.99214649e-01, 7.85309996e-04],\n",
       "       [9.99507546e-01, 4.92430350e-04],\n",
       "       [9.98638570e-01, 1.36142515e-03],\n",
       "       [9.99549329e-01, 4.50606720e-04],\n",
       "       [9.99701202e-01, 2.98713625e-04],\n",
       "       [9.99525905e-01, 4.74090106e-04],\n",
       "       [9.93800223e-01, 6.19980833e-03],\n",
       "       [9.99670744e-01, 3.29315284e-04],\n",
       "       [9.98872578e-01, 1.12743932e-03],\n",
       "       [9.99454916e-01, 5.45034476e-04],\n",
       "       [9.99909997e-01, 8.99368461e-05],\n",
       "       [9.99133766e-01, 8.66302813e-04],\n",
       "       [9.99059498e-01, 9.40546801e-04],\n",
       "       [9.99827325e-01, 1.72667671e-04],\n",
       "       [9.99712288e-01, 2.87633477e-04],\n",
       "       [9.99479234e-01, 5.20759146e-04],\n",
       "       [9.98386383e-01, 1.61367282e-03],\n",
       "       [9.96167123e-01, 3.83288949e-03],\n",
       "       [9.99811590e-01, 1.88431120e-04],\n",
       "       [9.99465406e-01, 5.34636260e-04],\n",
       "       [9.99764264e-01, 2.35710002e-04],\n",
       "       [9.99699950e-01, 3.00076877e-04],\n",
       "       [9.99804795e-01, 1.95196350e-04],\n",
       "       [9.99678612e-01, 3.21397936e-04],\n",
       "       [9.99830484e-01, 1.69521751e-04],\n",
       "       [9.99270618e-01, 7.29422027e-04],\n",
       "       [9.99790013e-01, 2.10059268e-04],\n",
       "       [9.98354197e-01, 1.64586154e-03],\n",
       "       [9.98613596e-01, 1.38633500e-03],\n",
       "       [9.99811590e-01, 1.88470818e-04],\n",
       "       [9.99353349e-01, 6.46623434e-04],\n",
       "       [9.99388576e-01, 6.11443771e-04],\n",
       "       [9.99411583e-01, 5.88394469e-04],\n",
       "       [9.98454094e-01, 1.54584681e-03],\n",
       "       [9.99536872e-01, 4.63196164e-04],\n",
       "       [9.98504877e-01, 1.49514899e-03],\n",
       "       [9.98637021e-01, 1.36293191e-03],\n",
       "       [9.98728931e-01, 1.27104600e-03],\n",
       "       [9.99326348e-01, 6.73694361e-04],\n",
       "       [9.99024630e-01, 9.75391362e-04],\n",
       "       [9.99790013e-01, 2.10007594e-04],\n",
       "       [9.97111797e-01, 2.88823782e-03],\n",
       "       [9.97309208e-01, 2.69075274e-03],\n",
       "       [9.99560416e-01, 4.39538824e-04],\n",
       "       [9.99204099e-01, 7.95866770e-04],\n",
       "       [9.99290824e-01, 7.09149463e-04],\n",
       "       [9.99306440e-01, 6.93569717e-04],\n",
       "       [9.99888420e-01, 1.11558256e-04],\n",
       "       [9.99319077e-01, 6.80949131e-04],\n",
       "       [9.98080492e-01, 1.91953429e-03],\n",
       "       [9.99597371e-01, 4.02596314e-04],\n",
       "       [9.98039901e-01, 1.96007220e-03],\n",
       "       [9.99498844e-01, 5.01158240e-04],\n",
       "       [9.99416590e-01, 5.83417481e-04],\n",
       "       [9.99564826e-01, 4.35168593e-04],\n",
       "       [9.98754501e-01, 1.24555267e-03],\n",
       "       [9.90784168e-01, 9.21586435e-03],\n",
       "       [9.97460961e-01, 2.53903051e-03],\n",
       "       [9.96577442e-01, 3.42251174e-03],\n",
       "       [9.96307969e-01, 3.69202509e-03],\n",
       "       [9.88211811e-01, 1.17881531e-02],\n",
       "       [9.99620676e-01, 3.79358535e-04],\n",
       "       [9.99202549e-01, 7.97455665e-04],\n",
       "       [9.99281108e-01, 7.18915020e-04],\n",
       "       [9.97533798e-01, 2.46622646e-03],\n",
       "       [9.99762118e-01, 2.37853339e-04],\n",
       "       [9.99783576e-01, 2.16488304e-04],\n",
       "       [9.99784768e-01, 2.15263819e-04],\n",
       "       [9.99859571e-01, 1.40398028e-04],\n",
       "       [9.99349892e-01, 6.50150701e-04],\n",
       "       [9.99666095e-01, 3.33912933e-04],\n",
       "       [9.99826849e-01, 1.73186432e-04],\n",
       "       [9.99860764e-01, 1.39253418e-04],\n",
       "       [9.97557878e-01, 2.44212011e-03],\n",
       "       [9.99784172e-01, 2.15880660e-04],\n",
       "       [9.99786079e-01, 2.13881824e-04],\n",
       "       [9.99822676e-01, 1.77390102e-04],\n",
       "       [9.99204695e-01, 7.95356580e-04],\n",
       "       [9.99068320e-01, 9.31753137e-04],\n",
       "       [9.99524474e-01, 4.75529610e-04],\n",
       "       [9.99076962e-01, 9.22965992e-04],\n",
       "       [9.98892009e-01, 1.10804813e-03],\n",
       "       [9.99702871e-01, 2.97094142e-04],\n",
       "       [9.99893427e-01, 1.06515668e-04],\n",
       "       [9.99916077e-01, 8.39704080e-05],\n",
       "       [9.97672617e-01, 2.32731830e-03],\n",
       "       [9.96932864e-01, 3.06708878e-03],\n",
       "       [9.99272287e-01, 7.27713632e-04],\n",
       "       [9.99414206e-01, 5.85761794e-04],\n",
       "       [9.98524845e-01, 1.47521868e-03],\n",
       "       [9.85732377e-01, 1.42676346e-02],\n",
       "       [9.99420047e-01, 5.80029271e-04],\n",
       "       [9.98624802e-01, 1.37517310e-03],\n",
       "       [9.98969555e-01, 1.03041041e-03],\n",
       "       [9.99379396e-01, 6.20532839e-04],\n",
       "       [9.98551667e-01, 1.44834432e-03],\n",
       "       [9.99635100e-01, 3.64849402e-04],\n",
       "       [9.85970318e-01, 1.40297171e-02],\n",
       "       [9.99742806e-01, 2.57159874e-04],\n",
       "       [9.96709466e-01, 3.29057500e-03],\n",
       "       [9.99459803e-01, 5.40157955e-04],\n",
       "       [9.87575352e-01, 1.24247223e-02],\n",
       "       [9.98768628e-01, 1.23139587e-03],\n",
       "       [9.99686956e-01, 3.13078723e-04],\n",
       "       [9.99478757e-01, 5.21285343e-04],\n",
       "       [9.99450982e-01, 5.48956974e-04],\n",
       "       [9.98720944e-01, 1.27906376e-03],\n",
       "       [9.97582436e-01, 2.41753506e-03],\n",
       "       [9.99867082e-01, 1.32915142e-04],\n",
       "       [9.99285638e-01, 7.14346184e-04],\n",
       "       [9.86177802e-01, 1.38222352e-02],\n",
       "       [9.99728739e-01, 2.71202705e-04],\n",
       "       [9.99774039e-01, 2.25914438e-04],\n",
       "       [9.99727547e-01, 2.72413425e-04],\n",
       "       [9.99870062e-01, 1.29892287e-04],\n",
       "       [9.99735892e-01, 2.64137605e-04],\n",
       "       [9.99453008e-01, 5.47020289e-04],\n",
       "       [9.99520540e-01, 4.79526410e-04],\n",
       "       [9.98507202e-01, 1.49281591e-03],\n",
       "       [9.99836564e-01, 1.63380711e-04],\n",
       "       [9.99483943e-01, 5.15979540e-04],\n",
       "       [9.98461366e-01, 1.53866503e-03],\n",
       "       [9.98827517e-01, 1.17247901e-03],\n",
       "       [9.99931097e-01, 6.89360022e-05],\n",
       "       [9.99453843e-01, 5.46200958e-04],\n",
       "       [9.92144763e-01, 7.85523467e-03],\n",
       "       [9.99956846e-01, 4.31760927e-05],\n",
       "       [9.96155322e-01, 3.84469633e-03],\n",
       "       [9.99411583e-01, 5.88482246e-04],\n",
       "       [9.99169350e-01, 8.30679201e-04],\n",
       "       [9.99797404e-01, 2.02631156e-04],\n",
       "       [9.96468425e-01, 3.53160314e-03],\n",
       "       [9.99595463e-01, 4.04505379e-04],\n",
       "       [9.98575330e-01, 1.42468582e-03],\n",
       "       [9.98703241e-01, 1.29680138e-03],\n",
       "       [9.98880088e-01, 1.11988874e-03],\n",
       "       [9.99344289e-01, 6.55641255e-04],\n",
       "       [9.93083715e-01, 6.91627897e-03],\n",
       "       [9.98559892e-01, 1.44006964e-03],\n",
       "       [9.92690623e-01, 7.30932411e-03],\n",
       "       [9.99733269e-01, 2.66666466e-04],\n",
       "       [9.99649048e-01, 3.50967690e-04],\n",
       "       [9.99785244e-01, 2.14741885e-04],\n",
       "       [9.99829769e-01, 1.70224579e-04],\n",
       "       [9.98311043e-01, 1.68898841e-03],\n",
       "       [9.80789840e-01, 1.92102306e-02],\n",
       "       [9.99158025e-01, 8.41962057e-04],\n",
       "       [9.99403238e-01, 5.96754660e-04],\n",
       "       [9.98288214e-01, 1.71181164e-03],\n",
       "       [9.98972416e-01, 1.02757826e-03],\n",
       "       [9.98167753e-01, 1.83216389e-03],\n",
       "       [9.99347270e-01, 6.52691117e-04],\n",
       "       [9.99620438e-01, 3.79483477e-04],\n",
       "       [9.98928010e-01, 1.07195333e-03],\n",
       "       [9.99135673e-01, 8.64333066e-04],\n",
       "       [9.99158144e-01, 8.41824047e-04],\n",
       "       [9.98264849e-01, 1.73518562e-03],\n",
       "       [9.99109209e-01, 8.90761672e-04],\n",
       "       [9.99744952e-01, 2.55083287e-04],\n",
       "       [9.96821642e-01, 3.17839137e-03],\n",
       "       [9.96736825e-01, 3.26315663e-03],\n",
       "       [9.99359190e-01, 6.40765880e-04],\n",
       "       [9.98782814e-01, 1.21723406e-03],\n",
       "       [9.99093413e-01, 9.06548346e-04],\n",
       "       [9.99052465e-01, 9.47503431e-04],\n",
       "       [9.99519348e-01, 4.80650808e-04],\n",
       "       [9.99699116e-01, 3.00944113e-04],\n",
       "       [9.98723209e-01, 1.27682486e-03],\n",
       "       [9.99713004e-01, 2.86956667e-04],\n",
       "       [9.95935559e-01, 4.06447100e-03],\n",
       "       [9.96450782e-01, 3.54922400e-03],\n",
       "       [9.99126613e-01, 8.73395125e-04],\n",
       "       [9.90288138e-01, 9.71186068e-03],\n",
       "       [7.68448651e-01, 2.31551379e-01],\n",
       "       [9.99261320e-01, 7.38728035e-04],\n",
       "       [9.98680413e-01, 1.31958129e-03],\n",
       "       [9.99756157e-01, 2.43875169e-04],\n",
       "       [9.99488950e-01, 5.10991900e-04],\n",
       "       [9.99710381e-01, 2.89645657e-04],\n",
       "       [9.98607814e-01, 1.39222620e-03],\n",
       "       [1.23057191e-06, 9.99998808e-01],\n",
       "       [9.54606548e-06, 9.99990463e-01],\n",
       "       [3.72230611e-03, 9.96277630e-01],\n",
       "       [4.45608166e-04, 9.99554336e-01],\n",
       "       [8.86267735e-05, 9.99911308e-01],\n",
       "       [1.59111829e-03, 9.98408854e-01],\n",
       "       [5.60036751e-05, 9.99943972e-01],\n",
       "       [9.33390344e-04, 9.99066651e-01],\n",
       "       [1.48717733e-03, 9.98512805e-01],\n",
       "       [2.86090818e-09, 1.00000000e+00],\n",
       "       [6.00233581e-03, 9.93997693e-01],\n",
       "       [4.34572896e-04, 9.99565423e-01],\n",
       "       [9.77298896e-07, 9.99999046e-01],\n",
       "       [2.60342822e-05, 9.99974012e-01],\n",
       "       [2.41879297e-06, 9.99997616e-01],\n",
       "       [1.93806427e-05, 9.99980569e-01],\n",
       "       [3.17870436e-04, 9.99682188e-01],\n",
       "       [5.46432602e-07, 9.99999404e-01],\n",
       "       [3.79976001e-07, 9.99999642e-01],\n",
       "       [2.88208889e-06, 9.99997139e-01],\n",
       "       [1.14982584e-04, 9.99884963e-01],\n",
       "       [5.81111002e-04, 9.99418855e-01],\n",
       "       [1.76060494e-05, 9.99982357e-01],\n",
       "       [1.49259774e-03, 9.98507321e-01],\n",
       "       [6.17440674e-04, 9.99382496e-01],\n",
       "       [4.57362155e-04, 9.99542713e-01],\n",
       "       [4.64112554e-06, 9.99995351e-01],\n",
       "       [8.43317380e-08, 9.99999881e-01],\n",
       "       [1.08075017e-06, 9.99998927e-01],\n",
       "       [2.74725693e-07, 9.99999762e-01],\n",
       "       [3.07880473e-05, 9.99969244e-01],\n",
       "       [5.59306272e-06, 9.99994397e-01],\n",
       "       [1.81918193e-04, 9.99818146e-01],\n",
       "       [1.72950924e-04, 9.99827087e-01],\n",
       "       [3.08143528e-04, 9.99691844e-01],\n",
       "       [9.50346816e-07, 9.99999046e-01],\n",
       "       [3.67167718e-06, 9.99996305e-01],\n",
       "       [1.59145511e-05, 9.99984026e-01],\n",
       "       [2.24294708e-05, 9.99977589e-01],\n",
       "       [1.80319494e-05, 9.99981999e-01],\n",
       "       [5.72349597e-03, 9.94276464e-01],\n",
       "       [1.30212202e-03, 9.98697877e-01],\n",
       "       [5.05474927e-05, 9.99949455e-01],\n",
       "       [1.39425538e-06, 9.99998569e-01],\n",
       "       [1.54378096e-04, 9.99845624e-01],\n",
       "       [1.28752424e-06, 9.99998689e-01],\n",
       "       [1.52796129e-05, 9.99984741e-01],\n",
       "       [2.49756558e-04, 9.99750197e-01],\n",
       "       [5.03805968e-05, 9.99949574e-01],\n",
       "       [1.71154716e-05, 9.99982834e-01],\n",
       "       [3.38090264e-04, 9.99661922e-01],\n",
       "       [7.38117194e-07, 9.99999285e-01],\n",
       "       [1.84128003e-04, 9.99815881e-01],\n",
       "       [4.88698024e-05, 9.99951124e-01],\n",
       "       [6.26601661e-07, 9.99999404e-01],\n",
       "       [1.54347947e-06, 9.99998450e-01],\n",
       "       [1.25397423e-06, 9.99998689e-01],\n",
       "       [8.89543855e-07, 9.99999166e-01],\n",
       "       [5.49342712e-06, 9.99994516e-01],\n",
       "       [4.85024316e-07, 9.99999523e-01],\n",
       "       [2.04722295e-04, 9.99795258e-01],\n",
       "       [7.32047774e-05, 9.99926805e-01],\n",
       "       [3.22496708e-05, 9.99967694e-01],\n",
       "       [2.14014202e-04, 9.99785960e-01],\n",
       "       [2.97236829e-06, 9.99997020e-01],\n",
       "       [1.22181341e-08, 1.00000000e+00],\n",
       "       [1.65702848e-04, 9.99834299e-01],\n",
       "       [8.07158500e-08, 9.99999881e-01],\n",
       "       [2.31951271e-05, 9.99976754e-01],\n",
       "       [1.16887015e-04, 9.99883056e-01],\n",
       "       [4.99078124e-05, 9.99950051e-01],\n",
       "       [1.10164592e-05, 9.99989033e-01],\n",
       "       [2.31637573e-03, 9.97683644e-01],\n",
       "       [9.61889600e-05, 9.99903798e-01],\n",
       "       [5.77890431e-04, 9.99422193e-01],\n",
       "       [1.72113516e-06, 9.99998331e-01],\n",
       "       [2.60807865e-04, 9.99739230e-01],\n",
       "       [2.00936156e-05, 9.99979854e-01],\n",
       "       [1.72866776e-03, 9.98271346e-01],\n",
       "       [6.09011522e-07, 9.99999404e-01],\n",
       "       [1.76365847e-05, 9.99982357e-01],\n",
       "       [6.93219044e-05, 9.99930620e-01],\n",
       "       [2.31338548e-04, 9.99768674e-01],\n",
       "       [6.29574279e-05, 9.99937057e-01],\n",
       "       [6.18485719e-05, 9.99938130e-01],\n",
       "       [2.72035340e-05, 9.99972820e-01],\n",
       "       [6.29089336e-05, 9.99937057e-01],\n",
       "       [2.46032596e-05, 9.99975443e-01],\n",
       "       [6.39087330e-06, 9.99993563e-01],\n",
       "       [8.52038647e-06, 9.99991536e-01],\n",
       "       [5.29289764e-06, 9.99994755e-01],\n",
       "       [2.00206296e-06, 9.99997973e-01],\n",
       "       [1.62370801e-01, 8.37629259e-01],\n",
       "       [1.39584974e-03, 9.98604119e-01],\n",
       "       [3.58071088e-06, 9.99996424e-01],\n",
       "       [3.82345635e-04, 9.99617577e-01],\n",
       "       [1.47872344e-02, 9.85212803e-01],\n",
       "       [9.20444785e-04, 9.99079585e-01],\n",
       "       [5.19123743e-04, 9.99480903e-01],\n",
       "       [1.94978158e-04, 9.99805033e-01],\n",
       "       [2.76859733e-03, 9.97231424e-01],\n",
       "       [9.68472305e-05, 9.99903202e-01],\n",
       "       [1.90166931e-04, 9.99809802e-01],\n",
       "       [1.07528849e-05, 9.99989271e-01],\n",
       "       [2.77145155e-04, 9.99722779e-01],\n",
       "       [1.95944199e-06, 9.99998093e-01],\n",
       "       [1.88343392e-07, 9.99999762e-01],\n",
       "       [1.19445413e-05, 9.99988079e-01],\n",
       "       [3.87486637e-07, 9.99999642e-01],\n",
       "       [4.62738899e-05, 9.99953747e-01],\n",
       "       [3.49460606e-07, 9.99999642e-01],\n",
       "       [1.54227926e-03, 9.98457670e-01],\n",
       "       [1.02339864e-05, 9.99989748e-01],\n",
       "       [4.15686509e-06, 9.99995828e-01],\n",
       "       [1.91550043e-05, 9.99980807e-01],\n",
       "       [4.58135546e-05, 9.99954224e-01],\n",
       "       [2.46816326e-05, 9.99975324e-01],\n",
       "       [9.64671053e-05, 9.99903560e-01],\n",
       "       [5.25556857e-07, 9.99999523e-01],\n",
       "       [8.74753005e-06, 9.99991298e-01],\n",
       "       [1.06973619e-06, 9.99998927e-01],\n",
       "       [5.20023277e-05, 9.99948025e-01],\n",
       "       [1.38165233e-05, 9.99986172e-01],\n",
       "       [1.32460985e-02, 9.86753881e-01],\n",
       "       [2.17799898e-05, 9.99978185e-01],\n",
       "       [5.45476905e-06, 9.99994516e-01],\n",
       "       [2.15612599e-05, 9.99978423e-01],\n",
       "       [6.46174044e-07, 9.99999404e-01],\n",
       "       [3.91223060e-04, 9.99608815e-01],\n",
       "       [3.27942507e-06, 9.99996662e-01],\n",
       "       [9.44134546e-04, 9.99055922e-01],\n",
       "       [1.38428339e-04, 9.99861598e-01],\n",
       "       [8.04386582e-06, 9.99992013e-01],\n",
       "       [3.96160613e-06, 9.99996066e-01],\n",
       "       [1.64723315e-04, 9.99835253e-01],\n",
       "       [6.02481159e-05, 9.99939799e-01],\n",
       "       [5.03024967e-06, 9.99994993e-01],\n",
       "       [1.72997734e-05, 9.99982715e-01],\n",
       "       [5.80841402e-07, 9.99999404e-01],\n",
       "       [6.26601661e-07, 9.99999404e-01],\n",
       "       [9.03819227e-07, 9.99999046e-01],\n",
       "       [1.97493285e-02, 9.80250716e-01],\n",
       "       [3.92242964e-06, 9.99996066e-01],\n",
       "       [1.21573430e-06, 9.99998808e-01],\n",
       "       [1.07682972e-04, 9.99892354e-01],\n",
       "       [4.58102368e-05, 9.99954224e-01],\n",
       "       [2.17679462e-06, 9.99997854e-01],\n",
       "       [8.23445498e-06, 9.99991775e-01],\n",
       "       [5.23283612e-04, 9.99476731e-01],\n",
       "       [1.28222106e-04, 9.99871731e-01]], dtype=float32)"
      ]
     },
     "execution_count": 34,
     "metadata": {
      "tags": []
     },
     "output_type": "execute_result"
    }
   ],
   "source": [
    "# Resnet50 model\n",
    "res_pred = model_resnet.predict_generator(test_generator, len(test_generator))\n",
    "res_pred"
   ]
  },
  {
   "cell_type": "code",
   "execution_count": 0,
   "metadata": {
    "colab": {},
    "colab_type": "code",
    "id": "BROlEqZMSVdX"
   },
   "outputs": [],
   "source": [
    "def model_labels(arr):\n",
    "  if(arr[0]>arr[1]):\n",
    "    return \"Negative\"\n",
    "  else:\n",
    "    return \"Positive\""
   ]
  },
  {
   "cell_type": "code",
   "execution_count": 47,
   "metadata": {
    "colab": {
     "base_uri": "https://localhost:8080/",
     "height": 102
    },
    "colab_type": "code",
    "id": "BjvP2CVByw6Z",
    "outputId": "9115b857-faa5-40c5-8575-61a71de25995"
   },
   "outputs": [
    {
     "name": "stdout",
     "output_type": "stream",
     "text": [
      "Positive\n",
      "Positive\n",
      "Positive\n",
      "Positive\n",
      "Positive\n"
     ]
    }
   ],
   "source": [
    "for i in range(5):\n",
    "  print(model_labels(vgg_pred[i]))"
   ]
  },
  {
   "cell_type": "code",
   "execution_count": 48,
   "metadata": {
    "colab": {
     "base_uri": "https://localhost:8080/",
     "height": 102
    },
    "colab_type": "code",
    "id": "3ytf5EzS3H92",
    "outputId": "92c37563-99c9-4e36-9ec0-22949814e8b5"
   },
   "outputs": [
    {
     "name": "stdout",
     "output_type": "stream",
     "text": [
      "Positive\n",
      "Positive\n",
      "Positive\n",
      "Positive\n",
      "Positive\n"
     ]
    }
   ],
   "source": [
    "for i in range(5):\n",
    "  print(model_labels(res_pred[i]))"
   ]
  }
 ],
 "metadata": {
  "accelerator": "GPU",
  "colab": {
   "name": "Comparing Resnet50_VGG16_keras.ipynb",
   "provenance": []
  },
  "kernelspec": {
   "display_name": "Python 3",
   "language": "python",
   "name": "python3"
  },
  "language_info": {
   "codemirror_mode": {
    "name": "ipython",
    "version": 3
   },
   "file_extension": ".py",
   "mimetype": "text/x-python",
   "name": "python",
   "nbconvert_exporter": "python",
   "pygments_lexer": "ipython3",
   "version": "3.6.8"
  }
 },
 "nbformat": 4,
 "nbformat_minor": 1
}
