{
 "cells": [
  {
   "cell_type": "markdown",
   "metadata": {},
   "source": [
    "<a href=\"http://cocl.us/pytorch_link_top\">\n",
    "    <img src=\"https://s3-api.us-geo.objectstorage.softlayer.net/cf-courses-data/CognitiveClass/DL0110EN/notebook_images%20/Pytochtop.png\" width=\"750\" alt=\"IBM Product \" />\n",
    "</a> "
   ]
  },
  {
   "cell_type": "markdown",
   "metadata": {},
   "source": [
    "<h2 id=\"download_data\">Download Data</h2>"
   ]
  },
  {
   "cell_type": "markdown",
   "metadata": {},
   "source": [
    "Download the dataset and unzip the files in your data directory, unlike the other labs, all the data will be deleted after you close  the lab, this may take some time:"
   ]
  },
  {
   "cell_type": "code",
   "execution_count": 1,
   "metadata": {},
   "outputs": [
    {
     "name": "stdout",
     "output_type": "stream",
     "text": [
      "--2020-04-11 20:44:22--  https://s3-api.us-geo.objectstorage.softlayer.net/cf-courses-data/CognitiveClass/DL0321EN/data/images/Positive_tensors.zip\n",
      "Resolving s3-api.us-geo.objectstorage.softlayer.net (s3-api.us-geo.objectstorage.softlayer.net)... 67.228.254.196\n",
      "Connecting to s3-api.us-geo.objectstorage.softlayer.net (s3-api.us-geo.objectstorage.softlayer.net)|67.228.254.196|:443... connected.\n",
      "HTTP request sent, awaiting response... 200 OK\n",
      "Length: 2598656062 (2.4G) [application/zip]\n",
      "Saving to: ‘Positive_tensors.zip’\n",
      "\n",
      "Positive_tensors.zi 100%[===================>]   2.42G  1.79MB/s    in 51m 37s \n",
      "\n",
      "2020-04-11 21:36:02 (819 KB/s) - ‘Positive_tensors.zip’ saved [2598656062/2598656062]\n",
      "\n"
     ]
    }
   ],
   "source": [
    "!wget https://s3-api.us-geo.objectstorage.softlayer.net/cf-courses-data/CognitiveClass/DL0321EN/data/images/Positive_tensors.zip "
   ]
  },
  {
   "cell_type": "code",
   "execution_count": 2,
   "metadata": {},
   "outputs": [],
   "source": [
    "!unzip -q Positive_tensors.zip "
   ]
  },
  {
   "cell_type": "code",
   "execution_count": 3,
   "metadata": {},
   "outputs": [
    {
     "name": "stdout",
     "output_type": "stream",
     "text": [
      "--2020-04-11 22:30:05--  https://s3-api.us-geo.objectstorage.softlayer.net/cf-courses-data/CognitiveClass/DL0321EN/data/images/Negative_tensors.zip\n",
      "Resolving s3-api.us-geo.objectstorage.softlayer.net (s3-api.us-geo.objectstorage.softlayer.net)... 67.228.254.196\n",
      "Connecting to s3-api.us-geo.objectstorage.softlayer.net (s3-api.us-geo.objectstorage.softlayer.net)|67.228.254.196|:443... connected.\n",
      "HTTP request sent, awaiting response... 200 OK\n",
      "Length: 2111408108 (2.0G) [application/zip]\n",
      "Saving to: ‘Negative_tensors.zip’\n",
      "\n",
      "Negative_tensors.zi 100%[===================>]   1.97G  1.45MB/s    in 62m 14s \n",
      "\n",
      "2020-04-11 23:32:22 (552 KB/s) - ‘Negative_tensors.zip’ saved [2111408108/2111408108]\n",
      "\n"
     ]
    }
   ],
   "source": [
    "! wget https://s3-api.us-geo.objectstorage.softlayer.net/cf-courses-data/CognitiveClass/DL0321EN/data/images/Negative_tensors.zip\n",
    "!unzip -q Negative_tensors.zip"
   ]
  },
  {
   "cell_type": "markdown",
   "metadata": {},
   "source": [
    "We will install torchvision:"
   ]
  },
  {
   "cell_type": "code",
   "execution_count": 7,
   "metadata": {},
   "outputs": [
    {
     "name": "stdout",
     "output_type": "stream",
     "text": [
      "PyTorch version :  1.2.0\n"
     ]
    }
   ],
   "source": [
    "# !pip install torchvision\n",
    "print(\"PyTorch version : \", torch.__version__)"
   ]
  },
  {
   "cell_type": "markdown",
   "metadata": {},
   "source": [
    "<h2 id=\"auxiliary\">Imports and Auxiliary Functions</h2>"
   ]
  },
  {
   "cell_type": "markdown",
   "metadata": {},
   "source": [
    "The following are the libraries we are going to use for this lab. The <code>torch.manual_seed()</code> is for forcing the random function to give the same number every time we try to recompile it."
   ]
  },
  {
   "cell_type": "code",
   "execution_count": 5,
   "metadata": {},
   "outputs": [
    {
     "data": {
      "text/plain": [
       "<torch._C.Generator at 0x7f930cd57630>"
      ]
     },
     "execution_count": 5,
     "metadata": {},
     "output_type": "execute_result"
    }
   ],
   "source": [
    "# These are the libraries will be used for this lab.\n",
    "import torchvision.models as models\n",
    "from PIL import Image\n",
    "import pandas\n",
    "from torchvision import transforms\n",
    "import torch.nn as nn\n",
    "import time\n",
    "import torch \n",
    "import matplotlib.pylab as plt\n",
    "import numpy as np\n",
    "from torch.utils.data import Dataset, DataLoader\n",
    "import h5py\n",
    "import os\n",
    "import glob\n",
    "torch.manual_seed(0)"
   ]
  },
  {
   "cell_type": "code",
   "execution_count": 6,
   "metadata": {},
   "outputs": [],
   "source": [
    "from matplotlib.pyplot import imshow\n",
    "import matplotlib.pylab as plt\n",
    "from PIL import Image\n",
    "import pandas as pd\n",
    "import os"
   ]
  },
  {
   "cell_type": "markdown",
   "metadata": {},
   "source": [
    "<!--Empty Space for separating topics-->"
   ]
  },
  {
   "cell_type": "markdown",
   "metadata": {},
   "source": [
    "<h2 id=\"data_class\">Dataset Class</h2>"
   ]
  },
  {
   "cell_type": "markdown",
   "metadata": {},
   "source": [
    " This dataset class is essentially the same dataset you build in the previous section, but to speed things up, we are going to use tensors instead of jpeg images. Therefor for each iteration, you will skip the reshape step, conversion step to tensors and normalization step."
   ]
  },
  {
   "cell_type": "code",
   "execution_count": 10,
   "metadata": {},
   "outputs": [
    {
     "name": "stdout",
     "output_type": "stream",
     "text": [
      "done\n"
     ]
    }
   ],
   "source": [
    "# Create your own dataset object\n",
    "\n",
    "class Dataset(Dataset):\n",
    "\n",
    "    # Constructor\n",
    "    def __init__(self,transform=None,train=True):\n",
    "        directory=\"\"\n",
    "        positive=\"Positive_tensors\"\n",
    "        negative='Negative_tensors'\n",
    "\n",
    "        positive_file_path=os.path.join(directory,positive)\n",
    "        negative_file_path=os.path.join(directory,negative)\n",
    "        positive_files=[os.path.join(positive_file_path,file) for file in os.listdir(positive_file_path) if file.endswith(\".pt\")]\n",
    "        negative_files=[os.path.join(negative_file_path,file) for file in os.listdir(negative_file_path) if file.endswith(\".pt\")]\n",
    "        number_of_samples=len(positive_files)+len(negative_files)\n",
    "        self.all_files=[None]*number_of_samples\n",
    "        self.all_files[::2]=positive_files\n",
    "        self.all_files[1::2]=negative_files \n",
    "        # The transform is goint to be used on image\n",
    "        self.transform = transform\n",
    "        #torch.LongTensor\n",
    "        self.Y=torch.zeros([number_of_samples]).type(torch.LongTensor)\n",
    "        self.Y[::2]=1\n",
    "        self.Y[1::2]=0\n",
    "        \n",
    "        if train:\n",
    "            self.all_files=self.all_files[0:30000]\n",
    "            self.Y=self.Y[0:30000]\n",
    "            self.len=len(self.all_files)\n",
    "        else:\n",
    "            self.all_files=self.all_files[30000:]\n",
    "            self.Y=self.Y[30000:]\n",
    "            self.len=len(self.all_files)     \n",
    "       \n",
    "    # Get the length\n",
    "    def __len__(self):\n",
    "        return self.len\n",
    "    \n",
    "    # Getter\n",
    "    def __getitem__(self, idx):\n",
    "               \n",
    "        image=torch.load(self.all_files[idx])\n",
    "        y=self.Y[idx]\n",
    "                  \n",
    "        # If there is any transform method, apply it onto the image\n",
    "        if self.transform:\n",
    "            image = self.transform(image)\n",
    "\n",
    "        return image, y\n",
    "    \n",
    "print(\"done\")"
   ]
  },
  {
   "cell_type": "markdown",
   "metadata": {},
   "source": [
    "We create two dataset objects, one for the training data and one for the validation data."
   ]
  },
  {
   "cell_type": "code",
   "execution_count": 11,
   "metadata": {},
   "outputs": [
    {
     "name": "stdout",
     "output_type": "stream",
     "text": [
      "done\n"
     ]
    }
   ],
   "source": [
    "train_dataset = Dataset(train=True)\n",
    "validation_dataset = Dataset(train=False)\n",
    "print(\"done\")"
   ]
  },
  {
   "cell_type": "markdown",
   "metadata": {},
   "source": [
    "<h2 id=\"Question_1\">Question 1</h2>"
   ]
  },
  {
   "cell_type": "markdown",
   "metadata": {},
   "source": [
    "<b>Prepare a pre-trained resnet18 model :</b>"
   ]
  },
  {
   "cell_type": "markdown",
   "metadata": {},
   "source": [
    "<b>Step 1</b>: Load the pre-trained model <code>resnet18</code> Set the parameter <code>pretrained</code> to true:"
   ]
  },
  {
   "cell_type": "code",
   "execution_count": 12,
   "metadata": {},
   "outputs": [
    {
     "name": "stderr",
     "output_type": "stream",
     "text": [
      "Downloading: \"https://download.pytorch.org/models/resnet18-5c106cde.pth\" to /home/balu/.cache/torch/checkpoints/resnet18-5c106cde.pth\n",
      "100%|██████████| 44.7M/44.7M [00:07<00:00, 6.34MB/s]\n"
     ]
    }
   ],
   "source": [
    "# Step 1: Load the pre-trained model resnet18\n",
    "# Type your code here\n",
    "\n",
    "import torchvision.models as models\n",
    "\n",
    "model = models.resnet18(pretrained=True)"
   ]
  },
  {
   "cell_type": "markdown",
   "metadata": {},
   "source": [
    "<b>Step 2</b>: Set the attribute <code>requires_grad</code> to <code>False</code>. As a result, the parameters will not be affected by training."
   ]
  },
  {
   "cell_type": "code",
   "execution_count": 15,
   "metadata": {},
   "outputs": [],
   "source": [
    "# Step 2: Set the parameter cannot be trained for the pre-trained model\n",
    "\n",
    "for param in model.parameters():\n",
    "    param.requires_grad = False\n",
    "#     print(param)\n",
    "# Type your code here"
   ]
  },
  {
   "cell_type": "markdown",
   "metadata": {},
   "source": [
    "<code>resnet18</code> is used to classify 1000 different objects; as a result, the last layer has 1000 outputs.  The 512 inputs come from the fact that the previously hidden layer has 512 outputs. "
   ]
  },
  {
   "cell_type": "markdown",
   "metadata": {},
   "source": [
    "<b>Step 3</b>: Replace the output layer <code>model.fc</code> of the neural network with a <code>nn.Linear</code> object, to classify 2 different classes. For the parameters <code>in_features </code> remember the last hidden layer has 512 neurons."
   ]
  },
  {
   "cell_type": "code",
   "execution_count": 16,
   "metadata": {},
   "outputs": [],
   "source": [
    "in_features = 512\n",
    "out_features = 2\n",
    "\n",
    "model.fc = nn.Linear(in_features,out_features)"
   ]
  },
  {
   "cell_type": "markdown",
   "metadata": {},
   "source": [
    "Print out the model in order to show whether you get the correct answer.<br> <b>(Your peer reviewer is going to mark based on what you print here.)</b>"
   ]
  },
  {
   "cell_type": "code",
   "execution_count": 17,
   "metadata": {
    "scrolled": true
   },
   "outputs": [
    {
     "name": "stdout",
     "output_type": "stream",
     "text": [
      "ResNet(\n",
      "  (conv1): Conv2d(3, 64, kernel_size=(7, 7), stride=(2, 2), padding=(3, 3), bias=False)\n",
      "  (bn1): BatchNorm2d(64, eps=1e-05, momentum=0.1, affine=True, track_running_stats=True)\n",
      "  (relu): ReLU(inplace=True)\n",
      "  (maxpool): MaxPool2d(kernel_size=3, stride=2, padding=1, dilation=1, ceil_mode=False)\n",
      "  (layer1): Sequential(\n",
      "    (0): BasicBlock(\n",
      "      (conv1): Conv2d(64, 64, kernel_size=(3, 3), stride=(1, 1), padding=(1, 1), bias=False)\n",
      "      (bn1): BatchNorm2d(64, eps=1e-05, momentum=0.1, affine=True, track_running_stats=True)\n",
      "      (relu): ReLU(inplace=True)\n",
      "      (conv2): Conv2d(64, 64, kernel_size=(3, 3), stride=(1, 1), padding=(1, 1), bias=False)\n",
      "      (bn2): BatchNorm2d(64, eps=1e-05, momentum=0.1, affine=True, track_running_stats=True)\n",
      "    )\n",
      "    (1): BasicBlock(\n",
      "      (conv1): Conv2d(64, 64, kernel_size=(3, 3), stride=(1, 1), padding=(1, 1), bias=False)\n",
      "      (bn1): BatchNorm2d(64, eps=1e-05, momentum=0.1, affine=True, track_running_stats=True)\n",
      "      (relu): ReLU(inplace=True)\n",
      "      (conv2): Conv2d(64, 64, kernel_size=(3, 3), stride=(1, 1), padding=(1, 1), bias=False)\n",
      "      (bn2): BatchNorm2d(64, eps=1e-05, momentum=0.1, affine=True, track_running_stats=True)\n",
      "    )\n",
      "  )\n",
      "  (layer2): Sequential(\n",
      "    (0): BasicBlock(\n",
      "      (conv1): Conv2d(64, 128, kernel_size=(3, 3), stride=(2, 2), padding=(1, 1), bias=False)\n",
      "      (bn1): BatchNorm2d(128, eps=1e-05, momentum=0.1, affine=True, track_running_stats=True)\n",
      "      (relu): ReLU(inplace=True)\n",
      "      (conv2): Conv2d(128, 128, kernel_size=(3, 3), stride=(1, 1), padding=(1, 1), bias=False)\n",
      "      (bn2): BatchNorm2d(128, eps=1e-05, momentum=0.1, affine=True, track_running_stats=True)\n",
      "      (downsample): Sequential(\n",
      "        (0): Conv2d(64, 128, kernel_size=(1, 1), stride=(2, 2), bias=False)\n",
      "        (1): BatchNorm2d(128, eps=1e-05, momentum=0.1, affine=True, track_running_stats=True)\n",
      "      )\n",
      "    )\n",
      "    (1): BasicBlock(\n",
      "      (conv1): Conv2d(128, 128, kernel_size=(3, 3), stride=(1, 1), padding=(1, 1), bias=False)\n",
      "      (bn1): BatchNorm2d(128, eps=1e-05, momentum=0.1, affine=True, track_running_stats=True)\n",
      "      (relu): ReLU(inplace=True)\n",
      "      (conv2): Conv2d(128, 128, kernel_size=(3, 3), stride=(1, 1), padding=(1, 1), bias=False)\n",
      "      (bn2): BatchNorm2d(128, eps=1e-05, momentum=0.1, affine=True, track_running_stats=True)\n",
      "    )\n",
      "  )\n",
      "  (layer3): Sequential(\n",
      "    (0): BasicBlock(\n",
      "      (conv1): Conv2d(128, 256, kernel_size=(3, 3), stride=(2, 2), padding=(1, 1), bias=False)\n",
      "      (bn1): BatchNorm2d(256, eps=1e-05, momentum=0.1, affine=True, track_running_stats=True)\n",
      "      (relu): ReLU(inplace=True)\n",
      "      (conv2): Conv2d(256, 256, kernel_size=(3, 3), stride=(1, 1), padding=(1, 1), bias=False)\n",
      "      (bn2): BatchNorm2d(256, eps=1e-05, momentum=0.1, affine=True, track_running_stats=True)\n",
      "      (downsample): Sequential(\n",
      "        (0): Conv2d(128, 256, kernel_size=(1, 1), stride=(2, 2), bias=False)\n",
      "        (1): BatchNorm2d(256, eps=1e-05, momentum=0.1, affine=True, track_running_stats=True)\n",
      "      )\n",
      "    )\n",
      "    (1): BasicBlock(\n",
      "      (conv1): Conv2d(256, 256, kernel_size=(3, 3), stride=(1, 1), padding=(1, 1), bias=False)\n",
      "      (bn1): BatchNorm2d(256, eps=1e-05, momentum=0.1, affine=True, track_running_stats=True)\n",
      "      (relu): ReLU(inplace=True)\n",
      "      (conv2): Conv2d(256, 256, kernel_size=(3, 3), stride=(1, 1), padding=(1, 1), bias=False)\n",
      "      (bn2): BatchNorm2d(256, eps=1e-05, momentum=0.1, affine=True, track_running_stats=True)\n",
      "    )\n",
      "  )\n",
      "  (layer4): Sequential(\n",
      "    (0): BasicBlock(\n",
      "      (conv1): Conv2d(256, 512, kernel_size=(3, 3), stride=(2, 2), padding=(1, 1), bias=False)\n",
      "      (bn1): BatchNorm2d(512, eps=1e-05, momentum=0.1, affine=True, track_running_stats=True)\n",
      "      (relu): ReLU(inplace=True)\n",
      "      (conv2): Conv2d(512, 512, kernel_size=(3, 3), stride=(1, 1), padding=(1, 1), bias=False)\n",
      "      (bn2): BatchNorm2d(512, eps=1e-05, momentum=0.1, affine=True, track_running_stats=True)\n",
      "      (downsample): Sequential(\n",
      "        (0): Conv2d(256, 512, kernel_size=(1, 1), stride=(2, 2), bias=False)\n",
      "        (1): BatchNorm2d(512, eps=1e-05, momentum=0.1, affine=True, track_running_stats=True)\n",
      "      )\n",
      "    )\n",
      "    (1): BasicBlock(\n",
      "      (conv1): Conv2d(512, 512, kernel_size=(3, 3), stride=(1, 1), padding=(1, 1), bias=False)\n",
      "      (bn1): BatchNorm2d(512, eps=1e-05, momentum=0.1, affine=True, track_running_stats=True)\n",
      "      (relu): ReLU(inplace=True)\n",
      "      (conv2): Conv2d(512, 512, kernel_size=(3, 3), stride=(1, 1), padding=(1, 1), bias=False)\n",
      "      (bn2): BatchNorm2d(512, eps=1e-05, momentum=0.1, affine=True, track_running_stats=True)\n",
      "    )\n",
      "  )\n",
      "  (avgpool): AdaptiveAvgPool2d(output_size=(1, 1))\n",
      "  (fc): Linear(in_features=512, out_features=2, bias=True)\n",
      ")\n"
     ]
    }
   ],
   "source": [
    "print(model)"
   ]
  },
  {
   "cell_type": "markdown",
   "metadata": {},
   "source": [
    "<h2 id=\"Question_2\">Question 2: Train the Model</h2>"
   ]
  },
  {
   "cell_type": "markdown",
   "metadata": {},
   "source": [
    "In this question you will train your, model:"
   ]
  },
  {
   "cell_type": "markdown",
   "metadata": {},
   "source": [
    "<b>Step 1</b>: Create a cross entropy criterion function "
   ]
  },
  {
   "cell_type": "code",
   "execution_count": 18,
   "metadata": {},
   "outputs": [],
   "source": [
    "# Step 1: Create the loss function\n",
    "\n",
    "# Type your code here\n",
    "criterion = nn.CrossEntropyLoss()"
   ]
  },
  {
   "cell_type": "markdown",
   "metadata": {},
   "source": [
    "<b>Step 2</b>: Create a training loader and validation loader object, the batch size should have 100 samples each."
   ]
  },
  {
   "cell_type": "code",
   "execution_count": 28,
   "metadata": {},
   "outputs": [],
   "source": [
    "batch_size = 100\n",
    "\n",
    "train_loader = torch.utils.data.DataLoader(dataset=train_dataset, batch_size=batch_size)\n",
    "validation_loader = torch.utils.data.DataLoader(dataset = validation_dataset, batch_size = batch_size)"
   ]
  },
  {
   "cell_type": "markdown",
   "metadata": {},
   "source": [
    "<b>Step 3</b>: Use the following optimizer to minimize the loss "
   ]
  },
  {
   "cell_type": "code",
   "execution_count": 29,
   "metadata": {},
   "outputs": [],
   "source": [
    "optimizer = torch.optim.Adam([parameters  for parameters in model.parameters() if parameters.requires_grad],lr=0.001)"
   ]
  },
  {
   "cell_type": "markdown",
   "metadata": {},
   "source": [
    "<!--Empty Space for separating topics-->"
   ]
  },
  {
   "cell_type": "markdown",
   "metadata": {},
   "source": [
    "**Complete the following code to calculate  the accuracy on the validation data for one epoch; this should take about 45 minutes. Make sure you calculate the accuracy on the validation data.**"
   ]
  },
  {
   "cell_type": "code",
   "execution_count": 30,
   "metadata": {},
   "outputs": [
    {
     "name": "stdout",
     "output_type": "stream",
     "text": [
      "Iteration(Train steps): 1/300\n",
      "Iteration(Train steps): 2/300\n",
      "Iteration(Train steps): 3/300\n",
      "Iteration(Train steps): 4/300\n",
      "Iteration(Train steps): 5/300\n",
      "Iteration(Train steps): 6/300\n",
      "Iteration(Train steps): 7/300\n",
      "Iteration(Train steps): 8/300\n",
      "Iteration(Train steps): 9/300\n",
      "Iteration(Train steps): 10/300\n",
      "Iteration(Train steps): 11/300\n",
      "Iteration(Train steps): 12/300\n",
      "Iteration(Train steps): 13/300\n",
      "Iteration(Train steps): 14/300\n",
      "Iteration(Train steps): 15/300\n",
      "Iteration(Train steps): 16/300\n",
      "Iteration(Train steps): 17/300\n",
      "Iteration(Train steps): 18/300\n",
      "Iteration(Train steps): 19/300\n",
      "Iteration(Train steps): 20/300\n",
      "Iteration(Train steps): 21/300\n",
      "Iteration(Train steps): 22/300\n",
      "Iteration(Train steps): 23/300\n",
      "Iteration(Train steps): 24/300\n",
      "Iteration(Train steps): 25/300\n",
      "Iteration(Train steps): 26/300\n",
      "Iteration(Train steps): 27/300\n",
      "Iteration(Train steps): 28/300\n",
      "Iteration(Train steps): 29/300\n",
      "Iteration(Train steps): 30/300\n",
      "Iteration(Train steps): 31/300\n",
      "Iteration(Train steps): 32/300\n",
      "Iteration(Train steps): 33/300\n",
      "Iteration(Train steps): 34/300\n",
      "Iteration(Train steps): 35/300\n",
      "Iteration(Train steps): 36/300\n",
      "Iteration(Train steps): 37/300\n",
      "Iteration(Train steps): 38/300\n",
      "Iteration(Train steps): 39/300\n",
      "Iteration(Train steps): 40/300\n",
      "Iteration(Train steps): 41/300\n",
      "Iteration(Train steps): 42/300\n",
      "Iteration(Train steps): 43/300\n",
      "Iteration(Train steps): 44/300\n",
      "Iteration(Train steps): 45/300\n",
      "Iteration(Train steps): 46/300\n",
      "Iteration(Train steps): 47/300\n",
      "Iteration(Train steps): 48/300\n",
      "Iteration(Train steps): 49/300\n",
      "Iteration(Train steps): 50/300\n",
      "Iteration(Train steps): 51/300\n",
      "Iteration(Train steps): 52/300\n",
      "Iteration(Train steps): 53/300\n",
      "Iteration(Train steps): 54/300\n",
      "Iteration(Train steps): 55/300\n",
      "Iteration(Train steps): 56/300\n",
      "Iteration(Train steps): 57/300\n",
      "Iteration(Train steps): 58/300\n",
      "Iteration(Train steps): 59/300\n",
      "Iteration(Train steps): 60/300\n",
      "Iteration(Train steps): 61/300\n",
      "Iteration(Train steps): 62/300\n",
      "Iteration(Train steps): 63/300\n",
      "Iteration(Train steps): 64/300\n",
      "Iteration(Train steps): 65/300\n",
      "Iteration(Train steps): 66/300\n",
      "Iteration(Train steps): 67/300\n",
      "Iteration(Train steps): 68/300\n",
      "Iteration(Train steps): 69/300\n",
      "Iteration(Train steps): 70/300\n",
      "Iteration(Train steps): 71/300\n",
      "Iteration(Train steps): 72/300\n",
      "Iteration(Train steps): 73/300\n",
      "Iteration(Train steps): 74/300\n",
      "Iteration(Train steps): 75/300\n",
      "Iteration(Train steps): 76/300\n",
      "Iteration(Train steps): 77/300\n",
      "Iteration(Train steps): 78/300\n",
      "Iteration(Train steps): 79/300\n",
      "Iteration(Train steps): 80/300\n",
      "Iteration(Train steps): 81/300\n",
      "Iteration(Train steps): 82/300\n",
      "Iteration(Train steps): 83/300\n",
      "Iteration(Train steps): 84/300\n",
      "Iteration(Train steps): 85/300\n",
      "Iteration(Train steps): 86/300\n",
      "Iteration(Train steps): 87/300\n",
      "Iteration(Train steps): 88/300\n",
      "Iteration(Train steps): 89/300\n",
      "Iteration(Train steps): 90/300\n",
      "Iteration(Train steps): 91/300\n",
      "Iteration(Train steps): 92/300\n",
      "Iteration(Train steps): 93/300\n",
      "Iteration(Train steps): 94/300\n",
      "Iteration(Train steps): 95/300\n",
      "Iteration(Train steps): 96/300\n",
      "Iteration(Train steps): 97/300\n",
      "Iteration(Train steps): 98/300\n",
      "Iteration(Train steps): 99/300\n",
      "Iteration(Train steps): 100/300\n",
      "Iteration(Train steps): 101/300\n",
      "Iteration(Train steps): 102/300\n",
      "Iteration(Train steps): 103/300\n",
      "Iteration(Train steps): 104/300\n",
      "Iteration(Train steps): 105/300\n",
      "Iteration(Train steps): 106/300\n",
      "Iteration(Train steps): 107/300\n",
      "Iteration(Train steps): 108/300\n",
      "Iteration(Train steps): 109/300\n",
      "Iteration(Train steps): 110/300\n",
      "Iteration(Train steps): 111/300\n",
      "Iteration(Train steps): 112/300\n",
      "Iteration(Train steps): 113/300\n",
      "Iteration(Train steps): 114/300\n",
      "Iteration(Train steps): 115/300\n",
      "Iteration(Train steps): 116/300\n",
      "Iteration(Train steps): 117/300\n",
      "Iteration(Train steps): 118/300\n",
      "Iteration(Train steps): 119/300\n",
      "Iteration(Train steps): 120/300\n",
      "Iteration(Train steps): 121/300\n",
      "Iteration(Train steps): 122/300\n",
      "Iteration(Train steps): 123/300\n",
      "Iteration(Train steps): 124/300\n",
      "Iteration(Train steps): 125/300\n",
      "Iteration(Train steps): 126/300\n",
      "Iteration(Train steps): 127/300\n",
      "Iteration(Train steps): 128/300\n",
      "Iteration(Train steps): 129/300\n",
      "Iteration(Train steps): 130/300\n",
      "Iteration(Train steps): 131/300\n",
      "Iteration(Train steps): 132/300\n",
      "Iteration(Train steps): 133/300\n",
      "Iteration(Train steps): 134/300\n",
      "Iteration(Train steps): 135/300\n",
      "Iteration(Train steps): 136/300\n",
      "Iteration(Train steps): 137/300\n",
      "Iteration(Train steps): 138/300\n",
      "Iteration(Train steps): 139/300\n",
      "Iteration(Train steps): 140/300\n",
      "Iteration(Train steps): 141/300\n",
      "Iteration(Train steps): 142/300\n",
      "Iteration(Train steps): 143/300\n",
      "Iteration(Train steps): 144/300\n",
      "Iteration(Train steps): 145/300\n",
      "Iteration(Train steps): 146/300\n",
      "Iteration(Train steps): 147/300\n",
      "Iteration(Train steps): 148/300\n",
      "Iteration(Train steps): 149/300\n",
      "Iteration(Train steps): 150/300\n",
      "Iteration(Train steps): 151/300\n",
      "Iteration(Train steps): 152/300\n",
      "Iteration(Train steps): 153/300\n",
      "Iteration(Train steps): 154/300\n",
      "Iteration(Train steps): 155/300\n",
      "Iteration(Train steps): 156/300\n",
      "Iteration(Train steps): 157/300\n",
      "Iteration(Train steps): 158/300\n",
      "Iteration(Train steps): 159/300\n",
      "Iteration(Train steps): 160/300\n",
      "Iteration(Train steps): 161/300\n",
      "Iteration(Train steps): 162/300\n",
      "Iteration(Train steps): 163/300\n",
      "Iteration(Train steps): 164/300\n",
      "Iteration(Train steps): 165/300\n",
      "Iteration(Train steps): 166/300\n",
      "Iteration(Train steps): 167/300\n",
      "Iteration(Train steps): 168/300\n",
      "Iteration(Train steps): 169/300\n",
      "Iteration(Train steps): 170/300\n",
      "Iteration(Train steps): 171/300\n",
      "Iteration(Train steps): 172/300\n",
      "Iteration(Train steps): 173/300\n",
      "Iteration(Train steps): 174/300\n",
      "Iteration(Train steps): 175/300\n",
      "Iteration(Train steps): 176/300\n",
      "Iteration(Train steps): 177/300\n",
      "Iteration(Train steps): 178/300\n",
      "Iteration(Train steps): 179/300\n",
      "Iteration(Train steps): 180/300\n",
      "Iteration(Train steps): 181/300\n",
      "Iteration(Train steps): 182/300\n",
      "Iteration(Train steps): 183/300\n",
      "Iteration(Train steps): 184/300\n",
      "Iteration(Train steps): 185/300\n",
      "Iteration(Train steps): 186/300\n",
      "Iteration(Train steps): 187/300\n",
      "Iteration(Train steps): 188/300\n",
      "Iteration(Train steps): 189/300\n",
      "Iteration(Train steps): 190/300\n",
      "Iteration(Train steps): 191/300\n",
      "Iteration(Train steps): 192/300\n",
      "Iteration(Train steps): 193/300\n",
      "Iteration(Train steps): 194/300\n",
      "Iteration(Train steps): 195/300\n",
      "Iteration(Train steps): 196/300\n",
      "Iteration(Train steps): 197/300\n",
      "Iteration(Train steps): 198/300\n",
      "Iteration(Train steps): 199/300\n",
      "Iteration(Train steps): 200/300\n",
      "Iteration(Train steps): 201/300\n",
      "Iteration(Train steps): 202/300\n",
      "Iteration(Train steps): 203/300\n",
      "Iteration(Train steps): 204/300\n",
      "Iteration(Train steps): 205/300\n",
      "Iteration(Train steps): 206/300\n",
      "Iteration(Train steps): 207/300\n",
      "Iteration(Train steps): 208/300\n",
      "Iteration(Train steps): 209/300\n",
      "Iteration(Train steps): 210/300\n",
      "Iteration(Train steps): 211/300\n",
      "Iteration(Train steps): 212/300\n",
      "Iteration(Train steps): 213/300\n",
      "Iteration(Train steps): 214/300\n",
      "Iteration(Train steps): 215/300\n",
      "Iteration(Train steps): 216/300\n",
      "Iteration(Train steps): 217/300\n",
      "Iteration(Train steps): 218/300\n",
      "Iteration(Train steps): 219/300\n",
      "Iteration(Train steps): 220/300\n",
      "Iteration(Train steps): 221/300\n",
      "Iteration(Train steps): 222/300\n",
      "Iteration(Train steps): 223/300\n",
      "Iteration(Train steps): 224/300\n",
      "Iteration(Train steps): 225/300\n",
      "Iteration(Train steps): 226/300\n",
      "Iteration(Train steps): 227/300\n",
      "Iteration(Train steps): 228/300\n",
      "Iteration(Train steps): 229/300\n",
      "Iteration(Train steps): 230/300\n",
      "Iteration(Train steps): 231/300\n",
      "Iteration(Train steps): 232/300\n",
      "Iteration(Train steps): 233/300\n",
      "Iteration(Train steps): 234/300\n",
      "Iteration(Train steps): 235/300\n",
      "Iteration(Train steps): 236/300\n",
      "Iteration(Train steps): 237/300\n",
      "Iteration(Train steps): 238/300\n",
      "Iteration(Train steps): 239/300\n",
      "Iteration(Train steps): 240/300\n",
      "Iteration(Train steps): 241/300\n",
      "Iteration(Train steps): 242/300\n",
      "Iteration(Train steps): 243/300\n",
      "Iteration(Train steps): 244/300\n",
      "Iteration(Train steps): 245/300\n",
      "Iteration(Train steps): 246/300\n",
      "Iteration(Train steps): 247/300\n",
      "Iteration(Train steps): 248/300\n",
      "Iteration(Train steps): 249/300\n",
      "Iteration(Train steps): 250/300\n",
      "Iteration(Train steps): 251/300\n",
      "Iteration(Train steps): 252/300\n",
      "Iteration(Train steps): 253/300\n",
      "Iteration(Train steps): 254/300\n",
      "Iteration(Train steps): 255/300\n",
      "Iteration(Train steps): 256/300\n",
      "Iteration(Train steps): 257/300\n",
      "Iteration(Train steps): 258/300\n",
      "Iteration(Train steps): 259/300\n",
      "Iteration(Train steps): 260/300\n"
     ]
    },
    {
     "name": "stdout",
     "output_type": "stream",
     "text": [
      "Iteration(Train steps): 261/300\n",
      "Iteration(Train steps): 262/300\n",
      "Iteration(Train steps): 263/300\n",
      "Iteration(Train steps): 264/300\n",
      "Iteration(Train steps): 265/300\n",
      "Iteration(Train steps): 266/300\n",
      "Iteration(Train steps): 267/300\n",
      "Iteration(Train steps): 268/300\n",
      "Iteration(Train steps): 269/300\n",
      "Iteration(Train steps): 270/300\n",
      "Iteration(Train steps): 271/300\n",
      "Iteration(Train steps): 272/300\n",
      "Iteration(Train steps): 273/300\n",
      "Iteration(Train steps): 274/300\n",
      "Iteration(Train steps): 275/300\n",
      "Iteration(Train steps): 276/300\n",
      "Iteration(Train steps): 277/300\n",
      "Iteration(Train steps): 278/300\n",
      "Iteration(Train steps): 279/300\n",
      "Iteration(Train steps): 280/300\n",
      "Iteration(Train steps): 281/300\n",
      "Iteration(Train steps): 282/300\n",
      "Iteration(Train steps): 283/300\n",
      "Iteration(Train steps): 284/300\n",
      "Iteration(Train steps): 285/300\n",
      "Iteration(Train steps): 286/300\n",
      "Iteration(Train steps): 287/300\n",
      "Iteration(Train steps): 288/300\n",
      "Iteration(Train steps): 289/300\n",
      "Iteration(Train steps): 290/300\n",
      "Iteration(Train steps): 291/300\n",
      "Iteration(Train steps): 292/300\n",
      "Iteration(Train steps): 293/300\n",
      "Iteration(Train steps): 294/300\n",
      "Iteration(Train steps): 295/300\n",
      "Iteration(Train steps): 296/300\n",
      "Iteration(Train steps): 297/300\n",
      "Iteration(Train steps): 298/300\n",
      "Iteration(Train steps): 299/300\n",
      "Iteration(Train steps): 300/300\n",
      "Iteration(Validation steps): 1/300\n",
      "Iteration(Validation steps): 2/300\n",
      "Iteration(Validation steps): 3/300\n",
      "Iteration(Validation steps): 4/300\n",
      "Iteration(Validation steps): 5/300\n",
      "Iteration(Validation steps): 6/300\n",
      "Iteration(Validation steps): 7/300\n",
      "Iteration(Validation steps): 8/300\n",
      "Iteration(Validation steps): 9/300\n",
      "Iteration(Validation steps): 10/300\n",
      "Iteration(Validation steps): 11/300\n",
      "Iteration(Validation steps): 12/300\n",
      "Iteration(Validation steps): 13/300\n",
      "Iteration(Validation steps): 14/300\n",
      "Iteration(Validation steps): 15/300\n",
      "Iteration(Validation steps): 16/300\n",
      "Iteration(Validation steps): 17/300\n",
      "Iteration(Validation steps): 18/300\n",
      "Iteration(Validation steps): 19/300\n",
      "Iteration(Validation steps): 20/300\n",
      "Iteration(Validation steps): 21/300\n",
      "Iteration(Validation steps): 22/300\n",
      "Iteration(Validation steps): 23/300\n",
      "Iteration(Validation steps): 24/300\n",
      "Iteration(Validation steps): 25/300\n",
      "Iteration(Validation steps): 26/300\n",
      "Iteration(Validation steps): 27/300\n",
      "Iteration(Validation steps): 28/300\n",
      "Iteration(Validation steps): 29/300\n",
      "Iteration(Validation steps): 30/300\n",
      "Iteration(Validation steps): 31/300\n",
      "Iteration(Validation steps): 32/300\n",
      "Iteration(Validation steps): 33/300\n",
      "Iteration(Validation steps): 34/300\n",
      "Iteration(Validation steps): 35/300\n",
      "Iteration(Validation steps): 36/300\n",
      "Iteration(Validation steps): 37/300\n",
      "Iteration(Validation steps): 38/300\n",
      "Iteration(Validation steps): 39/300\n",
      "Iteration(Validation steps): 40/300\n",
      "Iteration(Validation steps): 41/300\n",
      "Iteration(Validation steps): 42/300\n",
      "Iteration(Validation steps): 43/300\n",
      "Iteration(Validation steps): 44/300\n",
      "Iteration(Validation steps): 45/300\n",
      "Iteration(Validation steps): 46/300\n",
      "Iteration(Validation steps): 47/300\n",
      "Iteration(Validation steps): 48/300\n",
      "Iteration(Validation steps): 49/300\n",
      "Iteration(Validation steps): 50/300\n",
      "Iteration(Validation steps): 51/300\n",
      "Iteration(Validation steps): 52/300\n",
      "Iteration(Validation steps): 53/300\n",
      "Iteration(Validation steps): 54/300\n",
      "Iteration(Validation steps): 55/300\n",
      "Iteration(Validation steps): 56/300\n",
      "Iteration(Validation steps): 57/300\n",
      "Iteration(Validation steps): 58/300\n",
      "Iteration(Validation steps): 59/300\n",
      "Iteration(Validation steps): 60/300\n",
      "Iteration(Validation steps): 61/300\n",
      "Iteration(Validation steps): 62/300\n",
      "Iteration(Validation steps): 63/300\n",
      "Iteration(Validation steps): 64/300\n",
      "Iteration(Validation steps): 65/300\n",
      "Iteration(Validation steps): 66/300\n",
      "Iteration(Validation steps): 67/300\n",
      "Iteration(Validation steps): 68/300\n",
      "Iteration(Validation steps): 69/300\n",
      "Iteration(Validation steps): 70/300\n",
      "Iteration(Validation steps): 71/300\n",
      "Iteration(Validation steps): 72/300\n",
      "Iteration(Validation steps): 73/300\n",
      "Iteration(Validation steps): 74/300\n",
      "Iteration(Validation steps): 75/300\n",
      "Iteration(Validation steps): 76/300\n",
      "Iteration(Validation steps): 77/300\n",
      "Iteration(Validation steps): 78/300\n",
      "Iteration(Validation steps): 79/300\n",
      "Iteration(Validation steps): 80/300\n",
      "Iteration(Validation steps): 81/300\n",
      "Iteration(Validation steps): 82/300\n",
      "Iteration(Validation steps): 83/300\n",
      "Iteration(Validation steps): 84/300\n",
      "Iteration(Validation steps): 85/300\n",
      "Iteration(Validation steps): 86/300\n",
      "Iteration(Validation steps): 87/300\n",
      "Iteration(Validation steps): 88/300\n",
      "Iteration(Validation steps): 89/300\n",
      "Iteration(Validation steps): 90/300\n",
      "Iteration(Validation steps): 91/300\n",
      "Iteration(Validation steps): 92/300\n",
      "Iteration(Validation steps): 93/300\n",
      "Iteration(Validation steps): 94/300\n",
      "Iteration(Validation steps): 95/300\n",
      "Iteration(Validation steps): 96/300\n",
      "Iteration(Validation steps): 97/300\n",
      "Iteration(Validation steps): 98/300\n",
      "Iteration(Validation steps): 99/300\n",
      "Iteration(Validation steps): 100/300\n",
      "Epoch = 1  Accuracy = 0.9961\n"
     ]
    },
    {
     "ename": "NameError",
     "evalue": "name 'model_path' is not defined",
     "output_type": "error",
     "traceback": [
      "\u001b[0;31m---------------------------------------------------------------------------\u001b[0m",
      "\u001b[0;31mNameError\u001b[0m                                 Traceback (most recent call last)",
      "\u001b[0;32m<ipython-input-30-ea61b8d4453f>\u001b[0m in \u001b[0;36m<module>\u001b[0;34m\u001b[0m\n\u001b[1;32m     53\u001b[0m     \u001b[0maccuracy_list\u001b[0m\u001b[0;34m.\u001b[0m\u001b[0mappend\u001b[0m\u001b[0;34m(\u001b[0m\u001b[0maccuracy\u001b[0m\u001b[0;34m)\u001b[0m\u001b[0;34m\u001b[0m\u001b[0;34m\u001b[0m\u001b[0m\n\u001b[1;32m     54\u001b[0m \u001b[0;34m\u001b[0m\u001b[0m\n\u001b[0;32m---> 55\u001b[0;31m     \u001b[0mmodel_file_path\u001b[0m \u001b[0;34m=\u001b[0m \u001b[0mmodel_path\u001b[0m \u001b[0;34m+\u001b[0m \u001b[0;34m\"resnet18_trained_model_epoch_{}.pth\"\u001b[0m\u001b[0;34m.\u001b[0m\u001b[0mformat\u001b[0m\u001b[0;34m(\u001b[0m\u001b[0mepoch\u001b[0m\u001b[0;34m+\u001b[0m\u001b[0;36m1\u001b[0m\u001b[0;34m)\u001b[0m\u001b[0;34m\u001b[0m\u001b[0;34m\u001b[0m\u001b[0m\n\u001b[0m\u001b[1;32m     56\u001b[0m     \u001b[0mtorch\u001b[0m\u001b[0;34m.\u001b[0m\u001b[0msave\u001b[0m\u001b[0;34m(\u001b[0m\u001b[0mmodel\u001b[0m\u001b[0;34m.\u001b[0m\u001b[0mstate_dict\u001b[0m\u001b[0;34m(\u001b[0m\u001b[0;34m)\u001b[0m\u001b[0;34m,\u001b[0m \u001b[0mmodel_file_path\u001b[0m\u001b[0;34m)\u001b[0m\u001b[0;34m\u001b[0m\u001b[0;34m\u001b[0m\u001b[0m\n",
      "\u001b[0;31mNameError\u001b[0m: name 'model_path' is not defined"
     ]
    }
   ],
   "source": [
    "n_epochs=1\n",
    "loss_list=[]\n",
    "accuracy_list=[]\n",
    "correct=0\n",
    "N_test=len(validation_dataset)\n",
    "N_train=len(train_dataset)\n",
    "start_time = time.time()\n",
    "#n_epochs\n",
    "\n",
    "Loss=0\n",
    "start_time = time.time()\n",
    "for epoch in range(n_epochs):\n",
    "    for i,(x, y) in enumerate(train_loader):\n",
    "\n",
    "        model.train() \n",
    "        print(\"Iteration(Train steps): {}/{}\" .format(i+1, int(N_train/batch_size)))\n",
    "        #clear gradient\n",
    "        optimizer.zero_grad()     \n",
    "        \n",
    "        #make a prediction\n",
    "        z = model(x)\n",
    "        \n",
    "        # calculate loss \n",
    "        loss = criterion(z, y)\n",
    "    \n",
    "        # calculate gradients of parameters \n",
    "        loss.backward()\n",
    "        \n",
    "        # update parameters \n",
    "        optimizer.step()\n",
    "        \n",
    "        loss_list.append(loss.data)\n",
    "    correct=0\n",
    "    for i, (x_test, y_test) in enumerate(validation_loader):\n",
    "        \n",
    "        # set model to eval \n",
    "        model.eval()\n",
    "        print(\"Iteration(Validation steps): {}/{}\" .format(i+1, int(N_train/batch_size)))\n",
    "        \n",
    "        #make a prediction \n",
    "        z = model(x_test)\n",
    "        \n",
    "        #find max \n",
    "        _,yhat = torch.max(z.data, 1)\n",
    "       \n",
    "        #Calculate misclassified  samples in mini-batch \n",
    "        #hint +=(yhat==y_test).sum().item()\n",
    "        correct+= (yhat==y_test).sum().item()\n",
    "   \n",
    "    accuracy=correct/N_test\n",
    "    print(\"Epoch =\", epoch+1, \" Accuracy =\", accuracy)\n",
    "    \n",
    "    accuracy_list.append(accuracy)\n",
    "    \n",
    "    model_file_path = model_path + \"resnet18_trained_model_epoch_{}.pth\".format(epoch+1)\n",
    "    torch.save(model.state_dict(), model_file_path)"
   ]
  },
  {
   "cell_type": "markdown",
   "metadata": {},
   "source": [
    "<b>Print out the Accuracy and plot the loss stored in the list <code>loss_list</code> for every iteration and take a screen shot.</b>"
   ]
  },
  {
   "cell_type": "code",
   "execution_count": 31,
   "metadata": {},
   "outputs": [
    {
     "data": {
      "text/plain": [
       "0.9961"
      ]
     },
     "execution_count": 31,
     "metadata": {},
     "output_type": "execute_result"
    }
   ],
   "source": [
    "accuracy"
   ]
  },
  {
   "cell_type": "code",
   "execution_count": 32,
   "metadata": {},
   "outputs": [
    {
     "data": {
      "image/png": "[encoded data removed]",
      "text/plain": [
       "<Figure size 432x288 with 1 Axes>"
      ]
     },
     "metadata": {
      "needs_background": "light"
     },
     "output_type": "display_data"
    }
   ],
   "source": [
    "plt.plot(loss_list)\n",
    "plt.xlabel(\"iteration\")\n",
    "plt.ylabel(\"loss\")\n",
    "plt.show()\n"
   ]
  },
  {
   "cell_type": "markdown",
   "metadata": {},
   "source": [
    "<h2 id=\"Question_3\">Question 3:Find the misclassified samples</h2> "
   ]
  },
  {
   "cell_type": "markdown",
   "metadata": {},
   "source": [
    "<b>Identify the first four misclassified samples using the validation data:</b>"
   ]
  },
  {
   "cell_type": "code",
   "execution_count": 35,
   "metadata": {},
   "outputs": [
    {
     "name": "stdout",
     "output_type": "stream",
     "text": [
      "Sample : 131; Predicted Class: tensor([0]); Actual Class: tensor([1])\n",
      "Sample : 413; Predicted Class: tensor([0]); Actual Class: tensor([1])\n",
      "Sample : 547; Predicted Class: tensor([0]); Actual Class: tensor([1])\n",
      "Sample : 816; Predicted Class: tensor([1]); Actual Class: tensor([0])\n"
     ]
    }
   ],
   "source": [
    "count = 0\n",
    "mis_items = 4\n",
    "valid_loader_batch = torch.utils.data.DataLoader(dataset = validation_dataset, batch_size = 1)\n",
    "\n",
    "for i, (x_test, y_test) in enumerate(valid_loader_batch):\n",
    "        \n",
    "        # set model to eval \n",
    "        model.eval()\n",
    "        \n",
    "        #make a prediction \n",
    "        z = model(x_test)\n",
    "        \n",
    "        #find max \n",
    "        _,yhat = torch.max(z.data, 1)\n",
    "        \n",
    "        if (yhat != y_test):\n",
    "            print(\"Sample : {}; Predicted Class: {}; Actual Class: {}\".format(str(i), str(y_test), str(yhat)))\n",
    "            count += 1\n",
    "            if count >= mis_items:\n",
    "                break\n",
    "        "
   ]
  }
 ],
 "metadata": {
  "kernelspec": {
   "display_name": "Python 3",
   "language": "python",
   "name": "python3"
  },
  "language_info": {
   "codemirror_mode": {
    "name": "ipython",
    "version": 3
   },
   "file_extension": ".py",
   "mimetype": "text/x-python",
   "name": "python",
   "nbconvert_exporter": "python",
   "pygments_lexer": "ipython3",
   "version": "3.6.8"
  }
 },
 "nbformat": 4,
 "nbformat_minor": 2
}
